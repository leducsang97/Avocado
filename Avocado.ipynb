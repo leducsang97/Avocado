{
 "cells": [
  {
   "cell_type": "code",
   "execution_count": 1,
   "metadata": {},
   "outputs": [],
   "source": [
    "import os\n",
    "import pandas as pd\n",
    "import numpy as np\n",
    "from sklearn.metrics import mean_squared_error\n",
    "import pylab as pl\n",
    "from pylab import rcParams\n",
    "rcParams['figure.figsize'] = 12, 8\n",
    "import matplotlib.pyplot as pl\n",
    "import seaborn as sns\n",
    "data = pd.read_csv('avocado.csv')"
   ]
  },
  {
   "cell_type": "markdown",
   "metadata": {},
   "source": [
    "# Clean data"
   ]
  },
  {
   "cell_type": "code",
   "execution_count": 2,
   "metadata": {},
   "outputs": [
    {
     "data": {
      "text/html": [
       "<div>\n",
       "<style scoped>\n",
       "    .dataframe tbody tr th:only-of-type {\n",
       "        vertical-align: middle;\n",
       "    }\n",
       "\n",
       "    .dataframe tbody tr th {\n",
       "        vertical-align: top;\n",
       "    }\n",
       "\n",
       "    .dataframe thead th {\n",
       "        text-align: right;\n",
       "    }\n",
       "</style>\n",
       "<table border=\"1\" class=\"dataframe\">\n",
       "  <thead>\n",
       "    <tr style=\"text-align: right;\">\n",
       "      <th></th>\n",
       "      <th>Unnamed: 0</th>\n",
       "      <th>Date</th>\n",
       "      <th>AveragePrice</th>\n",
       "      <th>Total Volume</th>\n",
       "      <th>4046</th>\n",
       "      <th>4225</th>\n",
       "      <th>4770</th>\n",
       "      <th>Total Bags</th>\n",
       "      <th>Small Bags</th>\n",
       "      <th>Large Bags</th>\n",
       "      <th>XLarge Bags</th>\n",
       "      <th>type</th>\n",
       "      <th>year</th>\n",
       "      <th>region</th>\n",
       "    </tr>\n",
       "  </thead>\n",
       "  <tbody>\n",
       "    <tr>\n",
       "      <th>0</th>\n",
       "      <td>47</td>\n",
       "      <td>2017-02-05</td>\n",
       "      <td>0.66</td>\n",
       "      <td>11274749.11</td>\n",
       "      <td>4377537.67</td>\n",
       "      <td>2558039.85</td>\n",
       "      <td>193764.89</td>\n",
       "      <td>4145406.70</td>\n",
       "      <td>2508731.79</td>\n",
       "      <td>1627453.06</td>\n",
       "      <td>9221.85</td>\n",
       "      <td>conventional</td>\n",
       "      <td>2017</td>\n",
       "      <td>West</td>\n",
       "    </tr>\n",
       "    <tr>\n",
       "      <th>1</th>\n",
       "      <td>47</td>\n",
       "      <td>2017-02-05</td>\n",
       "      <td>0.67</td>\n",
       "      <td>11213596.29</td>\n",
       "      <td>3986429.59</td>\n",
       "      <td>3550403.07</td>\n",
       "      <td>214137.93</td>\n",
       "      <td>3462625.70</td>\n",
       "      <td>3403581.49</td>\n",
       "      <td>7838.83</td>\n",
       "      <td>51205.38</td>\n",
       "      <td>conventional</td>\n",
       "      <td>2017</td>\n",
       "      <td>California</td>\n",
       "    </tr>\n",
       "    <tr>\n",
       "      <th>2</th>\n",
       "      <td>7</td>\n",
       "      <td>2018-02-04</td>\n",
       "      <td>0.80</td>\n",
       "      <td>10894677.77</td>\n",
       "      <td>4473811.63</td>\n",
       "      <td>4097591.67</td>\n",
       "      <td>146357.78</td>\n",
       "      <td>2176916.69</td>\n",
       "      <td>2072477.62</td>\n",
       "      <td>34196.27</td>\n",
       "      <td>70242.80</td>\n",
       "      <td>conventional</td>\n",
       "      <td>2018</td>\n",
       "      <td>California</td>\n",
       "    </tr>\n",
       "    <tr>\n",
       "      <th>3</th>\n",
       "      <td>7</td>\n",
       "      <td>2018-02-04</td>\n",
       "      <td>0.83</td>\n",
       "      <td>10565056.41</td>\n",
       "      <td>3121272.58</td>\n",
       "      <td>3294335.87</td>\n",
       "      <td>142553.21</td>\n",
       "      <td>4006894.75</td>\n",
       "      <td>1151399.33</td>\n",
       "      <td>2838239.39</td>\n",
       "      <td>17256.03</td>\n",
       "      <td>conventional</td>\n",
       "      <td>2018</td>\n",
       "      <td>West</td>\n",
       "    </tr>\n",
       "    <tr>\n",
       "      <th>4</th>\n",
       "      <td>46</td>\n",
       "      <td>2016-02-07</td>\n",
       "      <td>0.70</td>\n",
       "      <td>10361698.17</td>\n",
       "      <td>2930343.28</td>\n",
       "      <td>3950852.38</td>\n",
       "      <td>424389.60</td>\n",
       "      <td>3056112.91</td>\n",
       "      <td>2693843.02</td>\n",
       "      <td>344774.59</td>\n",
       "      <td>17495.30</td>\n",
       "      <td>conventional</td>\n",
       "      <td>2016</td>\n",
       "      <td>California</td>\n",
       "    </tr>\n",
       "  </tbody>\n",
       "</table>\n",
       "</div>"
      ],
      "text/plain": [
       "   Unnamed: 0       Date  AveragePrice  Total Volume        4046        4225  \\\n",
       "0          47 2017-02-05          0.66   11274749.11  4377537.67  2558039.85   \n",
       "1          47 2017-02-05          0.67   11213596.29  3986429.59  3550403.07   \n",
       "2           7 2018-02-04          0.80   10894677.77  4473811.63  4097591.67   \n",
       "3           7 2018-02-04          0.83   10565056.41  3121272.58  3294335.87   \n",
       "4          46 2016-02-07          0.70   10361698.17  2930343.28  3950852.38   \n",
       "\n",
       "        4770  Total Bags  Small Bags  Large Bags  XLarge Bags          type  \\\n",
       "0  193764.89  4145406.70  2508731.79  1627453.06      9221.85  conventional   \n",
       "1  214137.93  3462625.70  3403581.49     7838.83     51205.38  conventional   \n",
       "2  146357.78  2176916.69  2072477.62    34196.27     70242.80  conventional   \n",
       "3  142553.21  4006894.75  1151399.33  2838239.39     17256.03  conventional   \n",
       "4  424389.60  3056112.91  2693843.02   344774.59     17495.30  conventional   \n",
       "\n",
       "   year      region  \n",
       "0  2017        West  \n",
       "1  2017  California  \n",
       "2  2018  California  \n",
       "3  2018        West  \n",
       "4  2016  California  "
      ]
     },
     "execution_count": 2,
     "metadata": {},
     "output_type": "execute_result"
    }
   ],
   "source": [
    "data['Date'] = pd.to_datetime(data['Date'])\n",
    "data.head()"
   ]
  },
  {
   "cell_type": "code",
   "execution_count": 3,
   "metadata": {},
   "outputs": [
    {
     "data": {
      "text/plain": [
       "<bound method DataFrame.info of        Unnamed: 0       Date  AveragePrice  Total Volume        4046  \\\n",
       "0              47 2017-02-05          0.66   11274749.11  4377537.67   \n",
       "1              47 2017-02-05          0.67   11213596.29  3986429.59   \n",
       "2               7 2018-02-04          0.80   10894677.77  4473811.63   \n",
       "3               7 2018-02-04          0.83   10565056.41  3121272.58   \n",
       "4              46 2016-02-07          0.70   10361698.17  2930343.28   \n",
       "5               7 2018-02-04          0.65   10323174.59  4772921.95   \n",
       "6              46 2016-02-07          0.69    9718438.84  3353158.49   \n",
       "7              47 2017-02-05          0.62    9421609.22  5160896.68   \n",
       "8              47 2015-02-01          0.85    9032180.67  4794142.14   \n",
       "9               0 2018-03-25          0.70    9010588.32  3999735.71   \n",
       "10             33 2016-05-08          0.75    8706859.44  2987238.83   \n",
       "11             34 2015-05-03          0.88    8567534.49  4340117.03   \n",
       "12             34 2017-05-07          0.94    8545908.75  3444218.04   \n",
       "13             25 2017-07-09          0.95    8389918.04  2821722.16   \n",
       "14             47 2015-02-01          0.84    8362504.08  3531350.44   \n",
       "15             49 2017-01-22          0.76    8153340.48  3089603.62   \n",
       "16             48 2017-01-29          0.76    8055482.07  3009291.31   \n",
       "17              6 2018-02-11          0.70    8043965.41  3886584.49   \n",
       "18             34 2017-05-07          0.85    7922898.43  4093101.60   \n",
       "19             49 2017-01-22          0.82    7876147.38  2831351.41   \n",
       "20             34 2017-05-07          1.08    7872203.23  2851510.24   \n",
       "21             33 2016-05-08          0.79    7808461.74  2716222.01   \n",
       "22             51 2016-01-03          0.73    7730431.28  2315175.35   \n",
       "23             51 2016-01-03          0.73    7707711.90  2204871.45   \n",
       "24              0 2018-03-25          0.93    7667064.46  2567279.74   \n",
       "25             34 2016-05-01          0.75    7661483.37  2817406.20   \n",
       "26              4 2018-02-25          0.76    7648478.57  3888705.13   \n",
       "27             29 2016-06-05          0.82    7637424.02  2492773.58   \n",
       "28             46 2016-02-07          0.70    7606351.80  3823016.00   \n",
       "29             36 2016-04-17          0.77    7592473.98  2283526.35   \n",
       "...           ...        ...           ...           ...         ...   \n",
       "18050           8 2016-10-30          2.11        740.33       17.92   \n",
       "18051          19 2015-08-16          1.89        716.29       46.05   \n",
       "18052          41 2015-03-15          1.79        712.40        4.64   \n",
       "18053          48 2015-01-25          2.01        711.52       59.16   \n",
       "18054          49 2015-01-18          1.88        706.15       20.71   \n",
       "18055          22 2015-07-26          1.49        697.76        5.67   \n",
       "18056          40 2015-03-22          2.01        683.76       20.54   \n",
       "18057           1 2015-12-20          1.55        679.51      234.43   \n",
       "18058           8 2016-10-30          1.73        667.95        4.91   \n",
       "18059           5 2015-11-22          1.11        657.96        4.62   \n",
       "18060          13 2015-09-27          1.72        657.42        1.21   \n",
       "18061          35 2017-04-30          1.95        634.09      228.39   \n",
       "18062          49 2015-01-18          1.84        627.80        0.00   \n",
       "18063          24 2015-07-12          2.02        614.30       90.49   \n",
       "18064          51 2015-01-04          1.72        593.39        0.00   \n",
       "18065          19 2015-08-16          1.86        588.87        0.00   \n",
       "18066          22 2015-07-26          1.48        571.40        5.07   \n",
       "18067          43 2016-02-28          1.84        566.57       45.47   \n",
       "18068           8 2016-10-30          1.63        563.06        3.60   \n",
       "18069          44 2016-02-21          1.67        562.64       35.36   \n",
       "18070          45 2015-02-15          1.72        561.10        0.00   \n",
       "18071           9 2016-10-23          1.58        542.85        8.14   \n",
       "18072          40 2015-03-22          1.93        530.96        0.00   \n",
       "18073          29 2017-06-11          2.19        515.01      399.62   \n",
       "18074          23 2015-07-19          2.07        482.26        0.00   \n",
       "18075          12 2016-10-02          1.49        472.82       10.50   \n",
       "18076          24 2015-07-12          2.05        419.98        0.00   \n",
       "18077           8 2016-10-30          1.58        385.55        8.13   \n",
       "18078          51 2015-01-04          1.73        379.82        0.00   \n",
       "18079           7 2015-11-08          1.59         84.56        3.95   \n",
       "\n",
       "             4225       4770  Total Bags  Small Bags  Large Bags  XLarge Bags  \\\n",
       "0      2558039.85  193764.89  4145406.70  2508731.79  1627453.06      9221.85   \n",
       "1      3550403.07  214137.93  3462625.70  3403581.49     7838.83     51205.38   \n",
       "2      4097591.67  146357.78  2176916.69  2072477.62    34196.27     70242.80   \n",
       "3      3294335.87  142553.21  4006894.75  1151399.33  2838239.39     17256.03   \n",
       "4      3950852.38  424389.60  3056112.91  2693843.02   344774.59     17495.30   \n",
       "5      1623613.82   38521.35  3888117.47  3351508.25   508738.57     27870.65   \n",
       "6      2960080.17  281618.20  3123581.98  1921219.60  1187478.30     14884.08   \n",
       "7      1821670.82  430538.46  2008503.26  1652465.83   346207.63      9829.80   \n",
       "8      3460743.80  177145.49   600149.24   556205.20    41203.20      2740.84   \n",
       "9       966589.50   30130.82  4014132.29  3398569.92   546409.74     69152.63   \n",
       "10     2488058.52  152314.08  3079248.01  1953254.58  1118633.94      7359.49   \n",
       "11     3403145.10  192473.92   631798.44   609388.58    19735.89      2673.97   \n",
       "12     1721747.13  140174.32  3239769.26  2148672.62  1085028.72      6067.92   \n",
       "13     1464321.92  118151.88  3985722.08  2780258.77  1200981.90      4481.41   \n",
       "14     3872672.00   80893.53   877588.11   705333.64   172154.91        99.56   \n",
       "15     2659661.41  106559.24  2297516.21  2207074.93    61563.24     28878.04   \n",
       "16     2295856.21  148335.97  2601998.58  2504421.68    48343.02     49233.88   \n",
       "17      917502.14   24745.18  3215133.60  2589009.32   574460.87     51663.41   \n",
       "18     1453770.19   18738.51  2357288.13  1526967.70   810444.58     19875.85   \n",
       "19     1718065.83  113570.61  3213159.53  1984947.54  1227056.13      1155.86   \n",
       "20     2470795.47  150595.46  2399302.06  2314634.27     3601.53     81066.26   \n",
       "21     2615648.28  336387.90  2140203.55  1606311.87   508755.56     25136.12   \n",
       "22     2856102.41  257268.16  2301885.36  1950428.50   340852.13     10604.73   \n",
       "23     2638893.24  156194.56  2707752.65  1383713.06  1320163.95      3875.64   \n",
       "24     1912986.38  118289.91  3068508.43  1309580.19  1745630.06     13298.18   \n",
       "25     2628579.48  291448.73  1924048.96  1421239.87   485685.06     17124.03   \n",
       "26      989820.91   28149.02  2741803.51  2257193.31   420376.57     64233.63   \n",
       "27     2070556.97  147905.62  2926187.85  1971340.38   949755.22      5092.25   \n",
       "28     1930304.29  804558.25  1048473.26   756322.54   197394.70     94756.02   \n",
       "29     2074920.94  168334.55  3065692.14  1944100.53  1112775.44      8816.17   \n",
       "...           ...        ...         ...         ...         ...          ...   \n",
       "18050      379.08       0.00      343.33      343.33        0.00         0.00   \n",
       "18051      154.22       0.00      516.02      516.02        0.00         0.00   \n",
       "18052      130.35       0.00      577.41      577.41        0.00         0.00   \n",
       "18053      572.36       0.00       80.00       80.00        0.00         0.00   \n",
       "18054      488.77       0.00      196.67      196.67        0.00         0.00   \n",
       "18055        0.00       0.00      692.09      692.09        0.00         0.00   \n",
       "18056      659.89       0.00        3.33        3.33        0.00         0.00   \n",
       "18057       31.59       0.00      413.49      287.87      125.62         0.00   \n",
       "18058       57.64       0.00      605.40      605.40        0.00         0.00   \n",
       "18059        7.87       0.00      645.47      642.14        3.33         0.00   \n",
       "18060       72.36       0.00      583.85      583.85        0.00         0.00   \n",
       "18061       24.04       0.00      381.66      381.66        0.00         0.00   \n",
       "18062      151.46       0.00      476.34      476.34        0.00         0.00   \n",
       "18063      103.52       0.00      420.29      417.64        2.65         0.00   \n",
       "18064      102.71       0.00      490.68      490.68        0.00         0.00   \n",
       "18065       67.66       0.00      521.21      521.21        0.00         0.00   \n",
       "18066        6.34       0.00      559.99      556.66        3.33         0.00   \n",
       "18067      514.08       0.00        7.02        0.00        7.02         0.00   \n",
       "18068      126.13       0.00      433.33      433.33        0.00         0.00   \n",
       "18069      425.56       0.00      101.72       14.03       87.69         0.00   \n",
       "18070       47.64       0.00      513.46      513.46        0.00         0.00   \n",
       "18071       81.38       0.00      453.33      450.00        3.33         0.00   \n",
       "18072      147.63       0.00      383.33      383.33        0.00         0.00   \n",
       "18073        5.92       0.00      109.47      106.14        3.33         0.00   \n",
       "18074       75.74       0.00      406.52      406.52        0.00         0.00   \n",
       "18075       18.99       0.00      443.33      440.00        3.33         0.00   \n",
       "18076       63.42       0.00      356.56      356.56        0.00         0.00   \n",
       "18077       47.42       0.00      330.00      330.00        0.00         0.00   \n",
       "18078       59.82       0.00      320.00      320.00        0.00         0.00   \n",
       "18079        3.95       0.00       76.66       73.33        3.33         0.00   \n",
       "\n",
       "               type  year             region  \n",
       "0      conventional  2017               West  \n",
       "1      conventional  2017         California  \n",
       "2      conventional  2018         California  \n",
       "3      conventional  2018               West  \n",
       "4      conventional  2016         California  \n",
       "5      conventional  2018       SouthCentral  \n",
       "6      conventional  2016               West  \n",
       "7      conventional  2017       SouthCentral  \n",
       "8      conventional  2015         California  \n",
       "9      conventional  2018       SouthCentral  \n",
       "10     conventional  2016               West  \n",
       "11     conventional  2015         California  \n",
       "12     conventional  2017               West  \n",
       "13     conventional  2017               West  \n",
       "14     conventional  2015               West  \n",
       "15     conventional  2017         California  \n",
       "16     conventional  2017         California  \n",
       "17     conventional  2018       SouthCentral  \n",
       "18     conventional  2017       SouthCentral  \n",
       "19     conventional  2017               West  \n",
       "20     conventional  2017         California  \n",
       "21     conventional  2016         California  \n",
       "22     conventional  2016         California  \n",
       "23     conventional  2016               West  \n",
       "24     conventional  2018               West  \n",
       "25     conventional  2016         California  \n",
       "26     conventional  2018       SouthCentral  \n",
       "27     conventional  2016               West  \n",
       "28     conventional  2016       SouthCentral  \n",
       "29     conventional  2016               West  \n",
       "...             ...   ...                ...  \n",
       "18050       organic  2016        GrandRapids  \n",
       "18051       organic  2015   BuffaloRochester  \n",
       "18052       organic  2015   BuffaloRochester  \n",
       "18053       organic  2015        GrandRapids  \n",
       "18054       organic  2015        GrandRapids  \n",
       "18055       organic  2015              Tampa  \n",
       "18056       organic  2015        GrandRapids  \n",
       "18057       organic  2015         Pittsburgh  \n",
       "18058       organic  2016           Syracuse  \n",
       "18059       organic  2015  MiamiFtLauderdale  \n",
       "18060       organic  2015           Syracuse  \n",
       "18061       organic  2017   NewOrleansMobile  \n",
       "18062       organic  2015           Syracuse  \n",
       "18063       organic  2015   BuffaloRochester  \n",
       "18064       organic  2015           Syracuse  \n",
       "18065       organic  2015           Syracuse  \n",
       "18066       organic  2015  MiamiFtLauderdale  \n",
       "18067       organic  2016              Boise  \n",
       "18068       organic  2016   BuffaloRochester  \n",
       "18069       organic  2016              Boise  \n",
       "18070       organic  2015           Syracuse  \n",
       "18071       organic  2016  MiamiFtLauderdale  \n",
       "18072       organic  2015   BuffaloRochester  \n",
       "18073       organic  2017   NewOrleansMobile  \n",
       "18074       organic  2015           Syracuse  \n",
       "18075       organic  2016  MiamiFtLauderdale  \n",
       "18076       organic  2015           Syracuse  \n",
       "18077       organic  2016  MiamiFtLauderdale  \n",
       "18078       organic  2015   BuffaloRochester  \n",
       "18079       organic  2015  MiamiFtLauderdale  \n",
       "\n",
       "[18080 rows x 14 columns]>"
      ]
     },
     "execution_count": 3,
     "metadata": {},
     "output_type": "execute_result"
    }
   ],
   "source": [
    "data.info"
   ]
  },
  {
   "cell_type": "code",
   "execution_count": 4,
   "metadata": {},
   "outputs": [
    {
     "data": {
      "text/plain": [
       "Unnamed: 0      0\n",
       "Date            0\n",
       "AveragePrice    0\n",
       "Total Volume    0\n",
       "4046            0\n",
       "4225            0\n",
       "4770            0\n",
       "Total Bags      0\n",
       "Small Bags      0\n",
       "Large Bags      0\n",
       "XLarge Bags     0\n",
       "type            0\n",
       "year            0\n",
       "region          0\n",
       "dtype: int64"
      ]
     },
     "execution_count": 4,
     "metadata": {},
     "output_type": "execute_result"
    }
   ],
   "source": [
    "data.isnull().sum()"
   ]
  },
  {
   "cell_type": "code",
   "execution_count": 5,
   "metadata": {},
   "outputs": [
    {
     "name": "stderr",
     "output_type": "stream",
     "text": [
      "/anaconda3/lib/python3.7/site-packages/scipy/stats/stats.py:1713: FutureWarning: Using a non-tuple sequence for multidimensional indexing is deprecated; use `arr[tuple(seq)]` instead of `arr[seq]`. In the future this will be interpreted as an array index, `arr[np.array(seq)]`, which will result either in an error or a different result.\n",
      "  return np.add.reduce(sorted[indexer] * weights, axis=axis) / sumval\n"
     ]
    },
    {
     "data": {
      "image/png": "[encoded data removed]",
      "text/plain": [
       "<Figure size 864x360 with 1 Axes>"
      ]
     },
     "metadata": {
      "needs_background": "light"
     },
     "output_type": "display_data"
    }
   ],
   "source": [
    "pl.figure(figsize=(12,5))\n",
    "pl.title(\"Distribution Price\")\n",
    "ax = sns.distplot(data[\"AveragePrice\"], color = 'r')"
   ]
  },
  {
   "cell_type": "code",
   "execution_count": 6,
   "metadata": {},
   "outputs": [
    {
     "data": {
      "text/plain": [
       "<matplotlib.axes._subplots.AxesSubplot at 0x1a1c3a9438>"
      ]
     },
     "execution_count": 6,
     "metadata": {},
     "output_type": "execute_result"
    },
    {
     "data": {
      "image/png": "[encoded data removed]",
      "text/plain": [
       "<Figure size 432x288 with 1 Axes>"
      ]
     },
     "metadata": {
      "needs_background": "light"
     },
     "output_type": "display_data"
    }
   ],
   "source": [
    "sns.boxplot(y=\"type\", x=\"AveragePrice\", data=data, palette = 'pink')\n"
   ]
  },
  {
   "cell_type": "code",
   "execution_count": 7,
   "metadata": {},
   "outputs": [],
   "source": [
    "from sklearn.preprocessing import LabelEncoder\n",
    "label = LabelEncoder()\n",
    "dicts = {}\n",
    "\n",
    "label.fit(data.type.drop_duplicates()) \n",
    "dicts['type'] = list(label.classes_)\n",
    "data.type = label.transform(data.type) "
   ]
  },
  {
   "cell_type": "code",
   "execution_count": 8,
   "metadata": {},
   "outputs": [
    {
     "data": {
      "image/png": "[encoded data removed]",
      "text/plain": [
       "<Figure size 432x288 with 2 Axes>"
      ]
     },
     "metadata": {},
     "output_type": "display_data"
    }
   ],
   "source": [
    "cols = ['AveragePrice','type','year','Total Volume','Total Bags']\n",
    "cm = np.corrcoef(data[cols].values.T)\n",
    "sns.set(font_scale = 1.7)\n",
    "hm = sns.heatmap(cm,cbar = True, annot = True,square = True, fmt = '.2f', annot_kws = {'size':15}, yticklabels = cols, xticklabels = cols)"
   ]
  },
  {
   "cell_type": "code",
   "execution_count": 9,
   "metadata": {},
   "outputs": [],
   "source": [
    "from sklearn.ensemble import RandomForestClassifier\n",
    "from sklearn.metrics import precision_recall_curve\n",
    "from sklearn.model_selection import train_test_split\n",
    "#from sklearn import cross_validation\n",
    "from sklearn.neighbors import KNeighborsClassifier\n",
    "from sklearn.ensemble import RandomForestClassifier\n",
    "from sklearn.linear_model import LogisticRegression\n",
    "from sklearn.metrics import roc_curve, auc\n",
    "import warnings\n",
    "warnings.filterwarnings('ignore')\n"
   ]
  },
  {
   "cell_type": "code",
   "execution_count": 10,
   "metadata": {},
   "outputs": [],
   "source": [
    "# x = data[['Total Volume','type']]\n",
    "x = data.drop(['AveragePrice','region','Date'], axis = 1)\n",
    "y = data.AveragePrice\n",
    "\n",
    "x_train,x_test,y_train,y_test = train_test_split(x,y,random_state = 0)"
   ]
  },
  {
   "cell_type": "code",
   "execution_count": 11,
   "metadata": {},
   "outputs": [
    {
     "data": {
      "text/plain": [
       "0.09491748921469435"
      ]
     },
     "execution_count": 11,
     "metadata": {},
     "output_type": "execute_result"
    }
   ],
   "source": [
    "from sklearn.linear_model import LinearRegression\n",
    "reg = LinearRegression().fit(x_train, y_train)\n",
    "mean_squared_error(y_test, reg.predict(x_test))"
   ]
  },
  {
   "cell_type": "code",
   "execution_count": 12,
   "metadata": {},
   "outputs": [
    {
     "data": {
      "text/plain": [
       "0.14186520044862683"
      ]
     },
     "execution_count": 12,
     "metadata": {},
     "output_type": "execute_result"
    }
   ],
   "source": [
    "from sklearn import linear_model`\n",
    "lasso = linear_model.Lasso(alpha=0.1).fit(x_train, y_train)\n",
    "lasso.predict(x_test)\n",
    "mean_squared_error(y_test, lasso.predict(x_test))"
   ]
  },
  {
   "cell_type": "code",
   "execution_count": 13,
   "metadata": {},
   "outputs": [
    {
     "data": {
      "text/plain": [
       "0.0949119692143363"
      ]
     },
     "execution_count": 13,
     "metadata": {},
     "output_type": "execute_result"
    }
   ],
   "source": [
    "from sklearn.linear_model import Ridge\n",
    "ridge = Ridge(alpha=10.0).fit(x_train,y_train)\n",
    "ridge.predict(x_test)\n",
    "mean_squared_error(y_test, ridge.predict(x_test))"
   ]
  },
  {
   "cell_type": "code",
   "execution_count": 14,
   "metadata": {},
   "outputs": [
    {
     "data": {
      "text/html": [
       "<div>\n",
       "<style scoped>\n",
       "    .dataframe tbody tr th:only-of-type {\n",
       "        vertical-align: middle;\n",
       "    }\n",
       "\n",
       "    .dataframe tbody tr th {\n",
       "        vertical-align: top;\n",
       "    }\n",
       "\n",
       "    .dataframe thead th {\n",
       "        text-align: right;\n",
       "    }\n",
       "</style>\n",
       "<table border=\"1\" class=\"dataframe\">\n",
       "  <thead>\n",
       "    <tr style=\"text-align: right;\">\n",
       "      <th></th>\n",
       "      <th>LR</th>\n",
       "      <th>Lasso</th>\n",
       "      <th>Ridge</th>\n",
       "    </tr>\n",
       "  </thead>\n",
       "  <tbody>\n",
       "    <tr>\n",
       "      <th>0</th>\n",
       "      <td>-0.003036</td>\n",
       "      <td>-2.744284e-03</td>\n",
       "      <td>-0.003035</td>\n",
       "    </tr>\n",
       "    <tr>\n",
       "      <th>1</th>\n",
       "      <td>-0.000121</td>\n",
       "      <td>-1.278573e-07</td>\n",
       "      <td>-0.000120</td>\n",
       "    </tr>\n",
       "    <tr>\n",
       "      <th>2</th>\n",
       "      <td>0.000121</td>\n",
       "      <td>-6.409492e-08</td>\n",
       "      <td>0.000120</td>\n",
       "    </tr>\n",
       "    <tr>\n",
       "      <th>3</th>\n",
       "      <td>0.000121</td>\n",
       "      <td>8.382150e-08</td>\n",
       "      <td>0.000120</td>\n",
       "    </tr>\n",
       "    <tr>\n",
       "      <th>4</th>\n",
       "      <td>0.000120</td>\n",
       "      <td>-4.934200e-07</td>\n",
       "      <td>0.000120</td>\n",
       "    </tr>\n",
       "  </tbody>\n",
       "</table>\n",
       "</div>"
      ],
      "text/plain": [
       "         LR         Lasso     Ridge\n",
       "0 -0.003036 -2.744284e-03 -0.003035\n",
       "1 -0.000121 -1.278573e-07 -0.000120\n",
       "2  0.000121 -6.409492e-08  0.000120\n",
       "3  0.000121  8.382150e-08  0.000120\n",
       "4  0.000120 -4.934200e-07  0.000120"
      ]
     },
     "execution_count": 14,
     "metadata": {},
     "output_type": "execute_result"
    }
   ],
   "source": [
    "coef_table = pd.DataFrame()\n",
    "coef_table['LR'] = reg.coef_\n",
    "coef_table['Lasso'] = lasso.coef_\n",
    "coef_table['Ridge'] = ridge.coef_\n",
    "coef_table.head()"
   ]
  },
  {
   "cell_type": "code",
   "execution_count": 15,
   "metadata": {},
   "outputs": [],
   "source": [
    "cpdf = pd.DataFrame()\n",
    "cpdf['Value'] = y_test\n",
    "cpdf['Ridge'] = ridge.predict(x_test)\n",
    "cpdf['Lasso'] = lasso.predict(x_test)\n",
    "cpdf['LR'] = reg.predict(x_test)"
   ]
  },
  {
   "cell_type": "code",
   "execution_count": 16,
   "metadata": {},
   "outputs": [
    {
     "data": {
      "text/html": [
       "<div>\n",
       "<style scoped>\n",
       "    .dataframe tbody tr th:only-of-type {\n",
       "        vertical-align: middle;\n",
       "    }\n",
       "\n",
       "    .dataframe tbody tr th {\n",
       "        vertical-align: top;\n",
       "    }\n",
       "\n",
       "    .dataframe thead th {\n",
       "        text-align: right;\n",
       "    }\n",
       "</style>\n",
       "<table border=\"1\" class=\"dataframe\">\n",
       "  <thead>\n",
       "    <tr style=\"text-align: right;\">\n",
       "      <th></th>\n",
       "      <th>Value</th>\n",
       "      <th>Ridge</th>\n",
       "      <th>Lasso</th>\n",
       "      <th>LR</th>\n",
       "    </tr>\n",
       "  </thead>\n",
       "  <tbody>\n",
       "    <tr>\n",
       "      <th>8933</th>\n",
       "      <td>1.74</td>\n",
       "      <td>1.680373</td>\n",
       "      <td>1.489009</td>\n",
       "      <td>1.681074</td>\n",
       "    </tr>\n",
       "    <tr>\n",
       "      <th>1644</th>\n",
       "      <td>1.32</td>\n",
       "      <td>1.213276</td>\n",
       "      <td>1.363053</td>\n",
       "      <td>1.212817</td>\n",
       "    </tr>\n",
       "    <tr>\n",
       "      <th>2330</th>\n",
       "      <td>1.42</td>\n",
       "      <td>1.249577</td>\n",
       "      <td>1.343587</td>\n",
       "      <td>1.249025</td>\n",
       "    </tr>\n",
       "    <tr>\n",
       "      <th>2777</th>\n",
       "      <td>1.11</td>\n",
       "      <td>1.135754</td>\n",
       "      <td>1.373590</td>\n",
       "      <td>1.135014</td>\n",
       "    </tr>\n",
       "    <tr>\n",
       "      <th>4173</th>\n",
       "      <td>1.09</td>\n",
       "      <td>1.125987</td>\n",
       "      <td>1.406338</td>\n",
       "      <td>1.125058</td>\n",
       "    </tr>\n",
       "  </tbody>\n",
       "</table>\n",
       "</div>"
      ],
      "text/plain": [
       "      Value     Ridge     Lasso        LR\n",
       "8933   1.74  1.680373  1.489009  1.681074\n",
       "1644   1.32  1.213276  1.363053  1.212817\n",
       "2330   1.42  1.249577  1.343587  1.249025\n",
       "2777   1.11  1.135754  1.373590  1.135014\n",
       "4173   1.09  1.125987  1.406338  1.125058"
      ]
     },
     "execution_count": 16,
     "metadata": {},
     "output_type": "execute_result"
    }
   ],
   "source": [
    "cpdf.head()"
   ]
  },
  {
   "cell_type": "code",
   "execution_count": 17,
   "metadata": {},
   "outputs": [],
   "source": [
    "import matplotlib.pyplot as plt\n",
    "%matplotlib inline\n",
    "\n",
    "#plt.plot( data['Total Volume'], data['AveragePrice'],'.')"
   ]
  },
  {
   "cell_type": "code",
   "execution_count": 18,
   "metadata": {},
   "outputs": [],
   "source": [
    "#from IPython.display import Image\n",
    "#Image(\"year_plot.png\")"
   ]
  },
  {
   "cell_type": "code",
   "execution_count": 19,
   "metadata": {},
   "outputs": [],
   "source": [
    "#data['Money'] = data['AveragePrice']*data['Total Volume']"
   ]
  },
  {
   "cell_type": "code",
   "execution_count": 20,
   "metadata": {},
   "outputs": [
    {
     "data": {
      "image/png": "[encoded data removed]",
      "text/plain": [
       "<Figure size 432x288 with 1 Axes>"
      ]
     },
     "metadata": {
      "needs_background": "light"
     },
     "output_type": "display_data"
    }
   ],
   "source": [
    "lasso_coef = []\n",
    "index =[]\n",
    "for i in range (100):\n",
    "    lasso = linear_model.Lasso(alpha=0.1*i).fit(x_train, y_train)\n",
    "    lasso.predict(x_test)\n",
    "    lasso_coef.append( mean_squared_error(y_test, lasso.predict(x_test)))\n",
    "    index.append(0.1*i)\n",
    "    plt.plot(index, lasso_coef, 'ro')"
   ]
  },
  {
   "cell_type": "code",
   "execution_count": 21,
   "metadata": {},
   "outputs": [
    {
     "data": {
      "text/plain": [
       "[<matplotlib.lines.Line2D at 0x1a1c386710>]"
      ]
     },
     "execution_count": 21,
     "metadata": {},
     "output_type": "execute_result"
    },
    {
     "data": {
      "image/png": "[encoded data removed]",
      "text/plain": [
       "<Figure size 432x288 with 1 Axes>"
      ]
     },
     "metadata": {
      "needs_background": "light"
     },
     "output_type": "display_data"
    }
   ],
   "source": [
    "plt.plot(index[20:99], lasso_coef[20:99], 'ro')"
   ]
  },
  {
   "cell_type": "code",
   "execution_count": 22,
   "metadata": {},
   "outputs": [
    {
     "data": {
      "text/plain": [
       "[<matplotlib.lines.Line2D at 0x1a1d56eb00>]"
      ]
     },
     "execution_count": 22,
     "metadata": {},
     "output_type": "execute_result"
    },
    {
     "data": {
      "image/png": "[encoded data removed]",
      "text/plain": [
       "<Figure size 432x288 with 1 Axes>"
      ]
     },
     "metadata": {
      "needs_background": "light"
     },
     "output_type": "display_data"
    }
   ],
   "source": [
    "ridge_coef = []\n",
    "index_100 =[]\n",
    "for i in range (100):\n",
    "    ridge = Ridge(alpha=i*0.1).fit(x_train,y_train)\n",
    "    ridge.predict(x_test)\n",
    "    ridge_coef.append(mean_squared_error(y_test, ridge.predict(x_test)))\n",
    "    index_100.append(0.1*i)\n",
    "plt.plot(index_100, ridge_coef, 'ro')"
   ]
  },
  {
   "cell_type": "code",
   "execution_count": 23,
   "metadata": {},
   "outputs": [
    {
     "data": {
      "text/plain": [
       "0.09491756562621659"
      ]
     },
     "execution_count": 23,
     "metadata": {},
     "output_type": "execute_result"
    }
   ],
   "source": [
    "ridge_coef[0]"
   ]
  },
  {
   "cell_type": "markdown",
   "metadata": {},
   "source": [
    "# Region"
   ]
  },
  {
   "cell_type": "code",
   "execution_count": 24,
   "metadata": {},
   "outputs": [],
   "source": [
    "data_column = data['region'].unique()"
   ]
  },
  {
   "cell_type": "code",
   "execution_count": 25,
   "metadata": {},
   "outputs": [],
   "source": [
    "data_temp = data\n",
    "for d in data_column:\n",
    "    temp = (data['region']==d)\n",
    "    data_temp[d] = temp"
   ]
  },
  {
   "cell_type": "code",
   "execution_count": 26,
   "metadata": {},
   "outputs": [
    {
     "data": {
      "text/html": [
       "<div>\n",
       "<style scoped>\n",
       "    .dataframe tbody tr th:only-of-type {\n",
       "        vertical-align: middle;\n",
       "    }\n",
       "\n",
       "    .dataframe tbody tr th {\n",
       "        vertical-align: top;\n",
       "    }\n",
       "\n",
       "    .dataframe thead th {\n",
       "        text-align: right;\n",
       "    }\n",
       "</style>\n",
       "<table border=\"1\" class=\"dataframe\">\n",
       "  <thead>\n",
       "    <tr style=\"text-align: right;\">\n",
       "      <th></th>\n",
       "      <th>Unnamed: 0</th>\n",
       "      <th>Date</th>\n",
       "      <th>AveragePrice</th>\n",
       "      <th>Total Volume</th>\n",
       "      <th>4046</th>\n",
       "      <th>4225</th>\n",
       "      <th>4770</th>\n",
       "      <th>Total Bags</th>\n",
       "      <th>Small Bags</th>\n",
       "      <th>Large Bags</th>\n",
       "      <th>...</th>\n",
       "      <th>Indianapolis</th>\n",
       "      <th>Columbus</th>\n",
       "      <th>Roanoke</th>\n",
       "      <th>Albany</th>\n",
       "      <th>Pittsburgh</th>\n",
       "      <th>BuffaloRochester</th>\n",
       "      <th>Louisville</th>\n",
       "      <th>Spokane</th>\n",
       "      <th>Boise</th>\n",
       "      <th>Syracuse</th>\n",
       "    </tr>\n",
       "  </thead>\n",
       "  <tbody>\n",
       "    <tr>\n",
       "      <th>0</th>\n",
       "      <td>47</td>\n",
       "      <td>2017-02-05</td>\n",
       "      <td>0.66</td>\n",
       "      <td>11274749.11</td>\n",
       "      <td>4377537.67</td>\n",
       "      <td>2558039.85</td>\n",
       "      <td>193764.89</td>\n",
       "      <td>4145406.70</td>\n",
       "      <td>2508731.79</td>\n",
       "      <td>1627453.06</td>\n",
       "      <td>...</td>\n",
       "      <td>False</td>\n",
       "      <td>False</td>\n",
       "      <td>False</td>\n",
       "      <td>False</td>\n",
       "      <td>False</td>\n",
       "      <td>False</td>\n",
       "      <td>False</td>\n",
       "      <td>False</td>\n",
       "      <td>False</td>\n",
       "      <td>False</td>\n",
       "    </tr>\n",
       "    <tr>\n",
       "      <th>1</th>\n",
       "      <td>47</td>\n",
       "      <td>2017-02-05</td>\n",
       "      <td>0.67</td>\n",
       "      <td>11213596.29</td>\n",
       "      <td>3986429.59</td>\n",
       "      <td>3550403.07</td>\n",
       "      <td>214137.93</td>\n",
       "      <td>3462625.70</td>\n",
       "      <td>3403581.49</td>\n",
       "      <td>7838.83</td>\n",
       "      <td>...</td>\n",
       "      <td>False</td>\n",
       "      <td>False</td>\n",
       "      <td>False</td>\n",
       "      <td>False</td>\n",
       "      <td>False</td>\n",
       "      <td>False</td>\n",
       "      <td>False</td>\n",
       "      <td>False</td>\n",
       "      <td>False</td>\n",
       "      <td>False</td>\n",
       "    </tr>\n",
       "    <tr>\n",
       "      <th>2</th>\n",
       "      <td>7</td>\n",
       "      <td>2018-02-04</td>\n",
       "      <td>0.80</td>\n",
       "      <td>10894677.77</td>\n",
       "      <td>4473811.63</td>\n",
       "      <td>4097591.67</td>\n",
       "      <td>146357.78</td>\n",
       "      <td>2176916.69</td>\n",
       "      <td>2072477.62</td>\n",
       "      <td>34196.27</td>\n",
       "      <td>...</td>\n",
       "      <td>False</td>\n",
       "      <td>False</td>\n",
       "      <td>False</td>\n",
       "      <td>False</td>\n",
       "      <td>False</td>\n",
       "      <td>False</td>\n",
       "      <td>False</td>\n",
       "      <td>False</td>\n",
       "      <td>False</td>\n",
       "      <td>False</td>\n",
       "    </tr>\n",
       "    <tr>\n",
       "      <th>3</th>\n",
       "      <td>7</td>\n",
       "      <td>2018-02-04</td>\n",
       "      <td>0.83</td>\n",
       "      <td>10565056.41</td>\n",
       "      <td>3121272.58</td>\n",
       "      <td>3294335.87</td>\n",
       "      <td>142553.21</td>\n",
       "      <td>4006894.75</td>\n",
       "      <td>1151399.33</td>\n",
       "      <td>2838239.39</td>\n",
       "      <td>...</td>\n",
       "      <td>False</td>\n",
       "      <td>False</td>\n",
       "      <td>False</td>\n",
       "      <td>False</td>\n",
       "      <td>False</td>\n",
       "      <td>False</td>\n",
       "      <td>False</td>\n",
       "      <td>False</td>\n",
       "      <td>False</td>\n",
       "      <td>False</td>\n",
       "    </tr>\n",
       "    <tr>\n",
       "      <th>4</th>\n",
       "      <td>46</td>\n",
       "      <td>2016-02-07</td>\n",
       "      <td>0.70</td>\n",
       "      <td>10361698.17</td>\n",
       "      <td>2930343.28</td>\n",
       "      <td>3950852.38</td>\n",
       "      <td>424389.60</td>\n",
       "      <td>3056112.91</td>\n",
       "      <td>2693843.02</td>\n",
       "      <td>344774.59</td>\n",
       "      <td>...</td>\n",
       "      <td>False</td>\n",
       "      <td>False</td>\n",
       "      <td>False</td>\n",
       "      <td>False</td>\n",
       "      <td>False</td>\n",
       "      <td>False</td>\n",
       "      <td>False</td>\n",
       "      <td>False</td>\n",
       "      <td>False</td>\n",
       "      <td>False</td>\n",
       "    </tr>\n",
       "  </tbody>\n",
       "</table>\n",
       "<p>5 rows × 68 columns</p>\n",
       "</div>"
      ],
      "text/plain": [
       "   Unnamed: 0       Date  AveragePrice  Total Volume        4046        4225  \\\n",
       "0          47 2017-02-05          0.66   11274749.11  4377537.67  2558039.85   \n",
       "1          47 2017-02-05          0.67   11213596.29  3986429.59  3550403.07   \n",
       "2           7 2018-02-04          0.80   10894677.77  4473811.63  4097591.67   \n",
       "3           7 2018-02-04          0.83   10565056.41  3121272.58  3294335.87   \n",
       "4          46 2016-02-07          0.70   10361698.17  2930343.28  3950852.38   \n",
       "\n",
       "        4770  Total Bags  Small Bags  Large Bags    ...     Indianapolis  \\\n",
       "0  193764.89  4145406.70  2508731.79  1627453.06    ...            False   \n",
       "1  214137.93  3462625.70  3403581.49     7838.83    ...            False   \n",
       "2  146357.78  2176916.69  2072477.62    34196.27    ...            False   \n",
       "3  142553.21  4006894.75  1151399.33  2838239.39    ...            False   \n",
       "4  424389.60  3056112.91  2693843.02   344774.59    ...            False   \n",
       "\n",
       "   Columbus  Roanoke Albany  Pittsburgh  BuffaloRochester  Louisville  \\\n",
       "0     False    False  False       False             False       False   \n",
       "1     False    False  False       False             False       False   \n",
       "2     False    False  False       False             False       False   \n",
       "3     False    False  False       False             False       False   \n",
       "4     False    False  False       False             False       False   \n",
       "\n",
       "   Spokane  Boise  Syracuse  \n",
       "0    False  False     False  \n",
       "1    False  False     False  \n",
       "2    False  False     False  \n",
       "3    False  False     False  \n",
       "4    False  False     False  \n",
       "\n",
       "[5 rows x 68 columns]"
      ]
     },
     "execution_count": 26,
     "metadata": {},
     "output_type": "execute_result"
    }
   ],
   "source": [
    "data_temp.head()"
   ]
  },
  {
   "cell_type": "code",
   "execution_count": 27,
   "metadata": {},
   "outputs": [
    {
     "data": {
      "text/plain": [
       "LinearRegression(copy_X=True, fit_intercept=True, n_jobs=None,\n",
       "         normalize=False)"
      ]
     },
     "execution_count": 27,
     "metadata": {},
     "output_type": "execute_result"
    }
   ],
   "source": [
    "reg"
   ]
  },
  {
   "cell_type": "code",
   "execution_count": 28,
   "metadata": {},
   "outputs": [],
   "source": [
    "x = data_temp.drop(['AveragePrice','region','Date'], axis = 1)\n",
    "y = data_temp.AveragePrice\n",
    "\n",
    "x_train,x_test,y_train,y_test = train_test_split(x,y,random_state = 0)"
   ]
  },
  {
   "cell_type": "code",
   "execution_count": 29,
   "metadata": {},
   "outputs": [
    {
     "data": {
      "text/plain": [
       "0.0715737717518344"
      ]
     },
     "execution_count": 29,
     "metadata": {},
     "output_type": "execute_result"
    }
   ],
   "source": [
    "reg = LinearRegression().fit(x_train, y_train)\n",
    "mean_squared_error(y_test, reg.predict(x_test))"
   ]
  },
  {
   "cell_type": "code",
   "execution_count": 30,
   "metadata": {},
   "outputs": [
    {
     "data": {
      "text/plain": [
       "0.14186520044862683"
      ]
     },
     "execution_count": 30,
     "metadata": {},
     "output_type": "execute_result"
    }
   ],
   "source": [
    "lasso = linear_model.Lasso(alpha=0.1).fit(x_train, y_train)\n",
    "lasso.predict(x_test)\n",
    "mean_squared_error(y_test, lasso.predict(x_test))"
   ]
  },
  {
   "cell_type": "code",
   "execution_count": 31,
   "metadata": {},
   "outputs": [
    {
     "data": {
      "text/plain": [
       "0.07362448894084975"
      ]
     },
     "execution_count": 31,
     "metadata": {},
     "output_type": "execute_result"
    }
   ],
   "source": [
    "ridge = Ridge(alpha=100.0).fit(x_train,y_train)\n",
    "ridge.predict(x_test)\n",
    "mean_squared_error(y_test, ridge.predict(x_test))"
   ]
  },
  {
   "cell_type": "code",
   "execution_count": 32,
   "metadata": {},
   "outputs": [
    {
     "data": {
      "text/html": [
       "<div>\n",
       "<style scoped>\n",
       "    .dataframe tbody tr th:only-of-type {\n",
       "        vertical-align: middle;\n",
       "    }\n",
       "\n",
       "    .dataframe tbody tr th {\n",
       "        vertical-align: top;\n",
       "    }\n",
       "\n",
       "    .dataframe thead th {\n",
       "        text-align: right;\n",
       "    }\n",
       "</style>\n",
       "<table border=\"1\" class=\"dataframe\">\n",
       "  <thead>\n",
       "    <tr style=\"text-align: right;\">\n",
       "      <th></th>\n",
       "      <th>Value</th>\n",
       "      <th>Ridge</th>\n",
       "      <th>Lasso</th>\n",
       "      <th>LR</th>\n",
       "    </tr>\n",
       "  </thead>\n",
       "  <tbody>\n",
       "    <tr>\n",
       "      <th>8933</th>\n",
       "      <td>1.74</td>\n",
       "      <td>1.692857</td>\n",
       "      <td>1.489009</td>\n",
       "      <td>1.717617</td>\n",
       "    </tr>\n",
       "    <tr>\n",
       "      <th>1644</th>\n",
       "      <td>1.32</td>\n",
       "      <td>1.352852</td>\n",
       "      <td>1.363053</td>\n",
       "      <td>1.401573</td>\n",
       "    </tr>\n",
       "    <tr>\n",
       "      <th>2330</th>\n",
       "      <td>1.42</td>\n",
       "      <td>1.355263</td>\n",
       "      <td>1.343587</td>\n",
       "      <td>1.392672</td>\n",
       "    </tr>\n",
       "    <tr>\n",
       "      <th>2777</th>\n",
       "      <td>1.11</td>\n",
       "      <td>0.986813</td>\n",
       "      <td>1.373590</td>\n",
       "      <td>0.915103</td>\n",
       "    </tr>\n",
       "    <tr>\n",
       "      <th>4173</th>\n",
       "      <td>1.09</td>\n",
       "      <td>1.101300</td>\n",
       "      <td>1.406338</td>\n",
       "      <td>1.080579</td>\n",
       "    </tr>\n",
       "  </tbody>\n",
       "</table>\n",
       "</div>"
      ],
      "text/plain": [
       "      Value     Ridge     Lasso        LR\n",
       "8933   1.74  1.692857  1.489009  1.717617\n",
       "1644   1.32  1.352852  1.363053  1.401573\n",
       "2330   1.42  1.355263  1.343587  1.392672\n",
       "2777   1.11  0.986813  1.373590  0.915103\n",
       "4173   1.09  1.101300  1.406338  1.080579"
      ]
     },
     "execution_count": 32,
     "metadata": {},
     "output_type": "execute_result"
    }
   ],
   "source": [
    "cpdf = pd.DataFrame()\n",
    "cpdf['Value'] = y_test\n",
    "cpdf['Ridge'] = ridge.predict(x_test)\n",
    "cpdf['Lasso'] = lasso.predict(x_test)\n",
    "cpdf['LR'] = reg.predict(x_test)\n",
    "cpdf.head()"
   ]
  },
  {
   "cell_type": "markdown",
   "metadata": {},
   "source": [
    "This proves that region helps increase model performance."
   ]
  },
  {
   "cell_type": "code",
   "execution_count": 35,
   "metadata": {},
   "outputs": [
    {
     "data": {
      "text/plain": [
       "[<matplotlib.lines.Line2D at 0x1a1d56eac8>]"
      ]
     },
     "execution_count": 35,
     "metadata": {},
     "output_type": "execute_result"
    },
    {
     "data": {
      "image/png": "[encoded data removed]",
      "text/plain": [
       "<Figure size 432x288 with 1 Axes>"
      ]
     },
     "metadata": {
      "needs_background": "light"
     },
     "output_type": "display_data"
    }
   ],
   "source": [
    "ridge_coef_region = []\n",
    "for i in range (100):\n",
    "    ridge = Ridge(alpha=i*0.1).fit(x_train,y_train)\n",
    "    ridge_coef_region.append(mean_squared_error(y_test, ridge.predict(x_test)))\n",
    "\n",
    "plt.plot(index, ridge_coef_region, 'ro')"
   ]
  },
  {
   "cell_type": "code",
   "execution_count": 36,
   "metadata": {},
   "outputs": [
    {
     "data": {
      "text/plain": [
       "[<matplotlib.lines.Line2D at 0x1a1d048748>]"
      ]
     },
     "execution_count": 36,
     "metadata": {},
     "output_type": "execute_result"
    },
    {
     "data": {
      "image/png": "[encoded data removed]",
      "text/plain": [
       "<Figure size 432x288 with 1 Axes>"
      ]
     },
     "metadata": {
      "needs_background": "light"
     },
     "output_type": "display_data"
    }
   ],
   "source": [
    "plt.plot(index[1:99], ridge_coef_region[1:99], 'ro')"
   ]
  },
  {
   "cell_type": "code",
   "execution_count": 37,
   "metadata": {},
   "outputs": [
    {
     "data": {
      "text/plain": [
       "[<matplotlib.lines.Line2D at 0x1a218d9860>]"
      ]
     },
     "execution_count": 37,
     "metadata": {},
     "output_type": "execute_result"
    },
    {
     "data": {
      "image/png": "[encoded data removed]",
      "text/plain": [
       "<Figure size 432x288 with 1 Axes>"
      ]
     },
     "metadata": {
      "needs_background": "light"
     },
     "output_type": "display_data"
    }
   ],
   "source": [
    "lasso_coef_region = []\n",
    "for i in range (100):\n",
    "    lasso = linear_model.Lasso(alpha=0.1*i).fit(x_train, y_train)\n",
    "    lasso_coef_region.append( mean_squared_error(y_test, lasso.predict(x_test)))\n",
    "\n",
    "plt.plot(index, lasso_coef_region, 'ro')\n"
   ]
  },
  {
   "cell_type": "code",
   "execution_count": 38,
   "metadata": {},
   "outputs": [
    {
     "data": {
      "text/plain": [
       "[<matplotlib.lines.Line2D at 0x1a2191bf28>]"
      ]
     },
     "execution_count": 38,
     "metadata": {},
     "output_type": "execute_result"
    },
    {
     "data": {
      "image/png": "[encoded data removed]",
      "text/plain": [
       "<Figure size 432x288 with 1 Axes>"
      ]
     },
     "metadata": {
      "needs_background": "light"
     },
     "output_type": "display_data"
    }
   ],
   "source": [
    "plt.plot(index[20:99], lasso_coef_region[20:99], 'ro')"
   ]
  },
  {
   "cell_type": "code",
   "execution_count": null,
   "metadata": {},
   "outputs": [],
   "source": [
    "len(lasso_coef_region)"
   ]
  },
  {
   "cell_type": "code",
   "execution_count": null,
   "metadata": {},
   "outputs": [],
   "source": [
    "x_test.head()"
   ]
  },
  {
   "cell_type": "markdown",
   "metadata": {},
   "source": [
    "# Try Square root"
   ]
  },
  {
   "cell_type": "code",
   "execution_count": 39,
   "metadata": {},
   "outputs": [],
   "source": [
    "y_test_sqrt = np.sqrt(y_test)\n",
    "y_train_sqrt = np.sqrt(y_train)\n"
   ]
  },
  {
   "cell_type": "code",
   "execution_count": 41,
   "metadata": {},
   "outputs": [
    {
     "data": {
      "text/plain": [
       "0.10041397871910589"
      ]
     },
     "execution_count": 41,
     "metadata": {},
     "output_type": "execute_result"
    }
   ],
   "source": [
    "reg_sqrt = LinearRegression().fit(x_train, y_train_sqrt)\n",
    "mean_squared_error(y_test_sqrt, reg.predict(x_test))"
   ]
  },
  {
   "cell_type": "code",
   "execution_count": 44,
   "metadata": {},
   "outputs": [
    {
     "data": {
      "text/plain": [
       "0.08715617443181285"
      ]
     },
     "execution_count": 44,
     "metadata": {},
     "output_type": "execute_result"
    }
   ],
   "source": [
    "lasso_sqrt = linear_model.Lasso(alpha=0.2).fit(x_train, y_train_sqrt)\n",
    "mean_squared_error(y_test_sqrt, lasso.predict(x_test))"
   ]
  },
  {
   "cell_type": "code",
   "execution_count": 45,
   "metadata": {},
   "outputs": [
    {
     "data": {
      "text/plain": [
       "[<matplotlib.lines.Line2D at 0x1a21b90080>]"
      ]
     },
     "execution_count": 45,
     "metadata": {},
     "output_type": "execute_result"
    },
    {
     "data": {
      "image/png": "[encoded data removed]",
      "text/plain": [
       "<Figure size 432x288 with 1 Axes>"
      ]
     },
     "metadata": {
      "needs_background": "light"
     },
     "output_type": "display_data"
    }
   ],
   "source": [
    "lasso_sqrt_coef_region = []\n",
    "for i in range (100):\n",
    "    lasso_sqrt = linear_model.Lasso(alpha=0.1*i).fit(x_train, y_train_sqrt)\n",
    "    lasso_sqrt_coef_region.append( mean_squared_error(y_test_sqrt, lasso.predict(x_test)))\n",
    "\n",
    "plt.plot(index, lasso_sqrt_coef_region, 'ro')\n"
   ]
  },
  {
   "cell_type": "code",
   "execution_count": 48,
   "metadata": {},
   "outputs": [
    {
     "data": {
      "text/plain": [
       "0.08715617443181285"
      ]
     },
     "execution_count": 48,
     "metadata": {},
     "output_type": "execute_result"
    }
   ],
   "source": [
    "lasso_sqrt = linear_model.Lasso(alpha=0.1).fit(x_train, y_train_sqrt)\n",
    "mean_squared_error(y_test_sqrt, lasso.predict(x_test))"
   ]
  },
  {
   "cell_type": "code",
   "execution_count": 52,
   "metadata": {},
   "outputs": [
    {
     "data": {
      "text/plain": [
       "0.08715617443181285"
      ]
     },
     "execution_count": 52,
     "metadata": {},
     "output_type": "execute_result"
    }
   ],
   "source": [
    "lasso_sqrt = linear_model.Lasso(alpha=0.1).fit(x_train, y_train_sqrt)\n",
    "mean_squared_error(y_test_sqrt, lasso.predict(x_test))"
   ]
  },
  {
   "cell_type": "code",
   "execution_count": 53,
   "metadata": {},
   "outputs": [
    {
     "data": {
      "text/plain": [
       "array([1.46195182, 1.40312372, 1.29413722, ..., 1.4337711 , 1.4622749 ,\n",
       "       1.46842282])"
      ]
     },
     "execution_count": 53,
     "metadata": {},
     "output_type": "execute_result"
    }
   ],
   "source": [
    "lasso.predict(x_test)"
   ]
  },
  {
   "cell_type": "code",
   "execution_count": null,
   "metadata": {},
   "outputs": [],
   "source": []
  }
 ],
 "metadata": {
  "kernelspec": {
   "display_name": "Python 3",
   "language": "python",
   "name": "python3"
  },
  "language_info": {
   "codemirror_mode": {
    "name": "ipython",
    "version": 3
   },
   "file_extension": ".py",
   "mimetype": "text/x-python",
   "name": "python",
   "nbconvert_exporter": "python",
   "pygments_lexer": "ipython3",
   "version": "3.7.1"
  }
 },
 "nbformat": 4,
 "nbformat_minor": 2
}
