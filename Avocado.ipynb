{
 "cells": [
  {
   "cell_type": "code",
   "execution_count": 1,
   "metadata": {},
   "outputs": [
    {
     "data": {
      "text/html": [
       "<script type=\"text/javascript\">window.PlotlyConfig = {MathJaxConfig: 'local'};</script><script type=\"text/javascript\">if (window.MathJax) {MathJax.Hub.Config({SVG: {font: \"STIX-Web\"}});}</script><script>requirejs.config({paths: { 'plotly': ['https://cdn.plot.ly/plotly-latest.min']},});if(!window._Plotly) {require(['plotly'],function(plotly) {window._Plotly=plotly;});}</script>"
      ],
      "text/vnd.plotly.v1+html": [
       "<script type=\"text/javascript\">window.PlotlyConfig = {MathJaxConfig: 'local'};</script><script type=\"text/javascript\">if (window.MathJax) {MathJax.Hub.Config({SVG: {font: \"STIX-Web\"}});}</script><script>requirejs.config({paths: { 'plotly': ['https://cdn.plot.ly/plotly-latest.min']},});if(!window._Plotly) {require(['plotly'],function(plotly) {window._Plotly=plotly;});}</script>"
      ]
     },
     "metadata": {},
     "output_type": "display_data"
    }
   ],
   "source": [
    "import os\n",
    "import pandas as pd\n",
    "import numpy as np\n",
    "from sklearn.metrics import mean_squared_error\n",
    "import pylab as pl\n",
    "from pylab import rcParams\n",
    "rcParams['figure.figsize'] = 12, 8\n",
    "import matplotlib.pyplot as pl\n",
    "import seaborn as sns\n",
    "from IPython.display import Image\n",
    "import plotly.plotly as py\n",
    "from plotly.offline import download_plotlyjs, init_notebook_mode, plot, iplot\n",
    "init_notebook_mode(connected=True)\n",
    "import plotly.graph_objs as go\n",
    "import matplotlib.pyplot as plt"
   ]
  },
  {
   "cell_type": "code",
   "execution_count": 2,
   "metadata": {},
   "outputs": [],
   "source": [
    "import plotly\n",
    "plotly.tools.set_credentials_file(username='leducsang97', api_key='3ccVqVkmejShTTYKhi3r')\n"
   ]
  },
  {
   "cell_type": "markdown",
   "metadata": {},
   "source": [
    "# Objective"
   ]
  },
  {
   "cell_type": "markdown",
   "metadata": {},
   "source": [
    "In this project, we will use Linear Regression (LR), Ridge Regression (Ridge), and Lasso Regression (Lasso) to answer the question: \n",
    "\n",
    "Was the Avocadopocalypse of 2017 real?\n",
    "\n",
    "To answer this question, we will train the model base on other year and see if the average price in 2017 is normal or not."
   ]
  },
  {
   "cell_type": "markdown",
   "metadata": {},
   "source": [
    "# Clean data"
   ]
  },
  {
   "cell_type": "code",
   "execution_count": 3,
   "metadata": {},
   "outputs": [
    {
     "data": {
      "text/html": [
       "<div>\n",
       "<style scoped>\n",
       "    .dataframe tbody tr th:only-of-type {\n",
       "        vertical-align: middle;\n",
       "    }\n",
       "\n",
       "    .dataframe tbody tr th {\n",
       "        vertical-align: top;\n",
       "    }\n",
       "\n",
       "    .dataframe thead th {\n",
       "        text-align: right;\n",
       "    }\n",
       "</style>\n",
       "<table border=\"1\" class=\"dataframe\">\n",
       "  <thead>\n",
       "    <tr style=\"text-align: right;\">\n",
       "      <th></th>\n",
       "      <th>Unnamed: 0</th>\n",
       "      <th>Date</th>\n",
       "      <th>AveragePrice</th>\n",
       "      <th>Total Volume</th>\n",
       "      <th>4046</th>\n",
       "      <th>4225</th>\n",
       "      <th>4770</th>\n",
       "      <th>Total Bags</th>\n",
       "      <th>Small Bags</th>\n",
       "      <th>Large Bags</th>\n",
       "      <th>XLarge Bags</th>\n",
       "      <th>type</th>\n",
       "      <th>year</th>\n",
       "      <th>region</th>\n",
       "    </tr>\n",
       "  </thead>\n",
       "  <tbody>\n",
       "    <tr>\n",
       "      <th>0</th>\n",
       "      <td>47</td>\n",
       "      <td>2017-02-05</td>\n",
       "      <td>0.66</td>\n",
       "      <td>11274749.11</td>\n",
       "      <td>4377537.67</td>\n",
       "      <td>2558039.85</td>\n",
       "      <td>193764.89</td>\n",
       "      <td>4145406.70</td>\n",
       "      <td>2508731.79</td>\n",
       "      <td>1627453.06</td>\n",
       "      <td>9221.85</td>\n",
       "      <td>conventional</td>\n",
       "      <td>2017</td>\n",
       "      <td>West</td>\n",
       "    </tr>\n",
       "    <tr>\n",
       "      <th>1</th>\n",
       "      <td>47</td>\n",
       "      <td>2017-02-05</td>\n",
       "      <td>0.67</td>\n",
       "      <td>11213596.29</td>\n",
       "      <td>3986429.59</td>\n",
       "      <td>3550403.07</td>\n",
       "      <td>214137.93</td>\n",
       "      <td>3462625.70</td>\n",
       "      <td>3403581.49</td>\n",
       "      <td>7838.83</td>\n",
       "      <td>51205.38</td>\n",
       "      <td>conventional</td>\n",
       "      <td>2017</td>\n",
       "      <td>California</td>\n",
       "    </tr>\n",
       "    <tr>\n",
       "      <th>2</th>\n",
       "      <td>7</td>\n",
       "      <td>2018-02-04</td>\n",
       "      <td>0.80</td>\n",
       "      <td>10894677.77</td>\n",
       "      <td>4473811.63</td>\n",
       "      <td>4097591.67</td>\n",
       "      <td>146357.78</td>\n",
       "      <td>2176916.69</td>\n",
       "      <td>2072477.62</td>\n",
       "      <td>34196.27</td>\n",
       "      <td>70242.80</td>\n",
       "      <td>conventional</td>\n",
       "      <td>2018</td>\n",
       "      <td>California</td>\n",
       "    </tr>\n",
       "    <tr>\n",
       "      <th>3</th>\n",
       "      <td>7</td>\n",
       "      <td>2018-02-04</td>\n",
       "      <td>0.83</td>\n",
       "      <td>10565056.41</td>\n",
       "      <td>3121272.58</td>\n",
       "      <td>3294335.87</td>\n",
       "      <td>142553.21</td>\n",
       "      <td>4006894.75</td>\n",
       "      <td>1151399.33</td>\n",
       "      <td>2838239.39</td>\n",
       "      <td>17256.03</td>\n",
       "      <td>conventional</td>\n",
       "      <td>2018</td>\n",
       "      <td>West</td>\n",
       "    </tr>\n",
       "    <tr>\n",
       "      <th>4</th>\n",
       "      <td>46</td>\n",
       "      <td>2016-02-07</td>\n",
       "      <td>0.70</td>\n",
       "      <td>10361698.17</td>\n",
       "      <td>2930343.28</td>\n",
       "      <td>3950852.38</td>\n",
       "      <td>424389.60</td>\n",
       "      <td>3056112.91</td>\n",
       "      <td>2693843.02</td>\n",
       "      <td>344774.59</td>\n",
       "      <td>17495.30</td>\n",
       "      <td>conventional</td>\n",
       "      <td>2016</td>\n",
       "      <td>California</td>\n",
       "    </tr>\n",
       "  </tbody>\n",
       "</table>\n",
       "</div>"
      ],
      "text/plain": [
       "   Unnamed: 0       Date  AveragePrice  Total Volume        4046        4225  \\\n",
       "0          47 2017-02-05          0.66   11274749.11  4377537.67  2558039.85   \n",
       "1          47 2017-02-05          0.67   11213596.29  3986429.59  3550403.07   \n",
       "2           7 2018-02-04          0.80   10894677.77  4473811.63  4097591.67   \n",
       "3           7 2018-02-04          0.83   10565056.41  3121272.58  3294335.87   \n",
       "4          46 2016-02-07          0.70   10361698.17  2930343.28  3950852.38   \n",
       "\n",
       "        4770  Total Bags  Small Bags  Large Bags  XLarge Bags          type  \\\n",
       "0  193764.89  4145406.70  2508731.79  1627453.06      9221.85  conventional   \n",
       "1  214137.93  3462625.70  3403581.49     7838.83     51205.38  conventional   \n",
       "2  146357.78  2176916.69  2072477.62    34196.27     70242.80  conventional   \n",
       "3  142553.21  4006894.75  1151399.33  2838239.39     17256.03  conventional   \n",
       "4  424389.60  3056112.91  2693843.02   344774.59     17495.30  conventional   \n",
       "\n",
       "   year      region  \n",
       "0  2017        West  \n",
       "1  2017  California  \n",
       "2  2018  California  \n",
       "3  2018        West  \n",
       "4  2016  California  "
      ]
     },
     "execution_count": 3,
     "metadata": {},
     "output_type": "execute_result"
    }
   ],
   "source": [
    "data = pd.read_csv('avocado.csv')\n",
    "data['Date'] = pd.to_datetime(data['Date'])\n",
    "data.head()"
   ]
  },
  {
   "cell_type": "markdown",
   "metadata": {},
   "source": [
    "This data was downloaded from the [Hass Avocado Board website]('http://www.hassavocadoboard.com/retail/volume-and-price-data') in May of 2018 & compiled into a single CSV. Here's how the Hass Avocado Board describes the data on their website:\n",
    "\n",
    "> The table below represents weekly 2018 retail scan data for National retail volume (units) and price. Retail scan data comes directly from retailers’ cash registers based on actual retail sales of Hass avocados. Starting in 2013, the table below reflects an expanded, multi-outlet retail data set. Multi-outlet reporting includes an aggregation of the following channels: grocery, mass, club, drug, dollar and military. The Average Price (of avocados) in the table reflects a per unit (per avocado) cost, even when multiple units (avocados) are sold in bags. The Product Lookup codes (PLU’s) in the table are only for Hass avocados. Other varieties of avocados (e.g. greenskins) are not included in this table.\n",
    "\n",
    "Some relevant columns in the dataset:\n",
    "\n",
    "- Date - The date of the observation\n",
    "- AveragePrice - the average price of a single avocado\n",
    "- type - conventional or organic\n",
    "- year - the year\n",
    "- Region - the city or region of the observation\n",
    "- Total Volume - Total number of avocados sold\n",
    "- 4046 - Total number of avocados with PLU 4046 sold\n",
    "- 4225 - Total number of avocados with PLU 4225 sold\n",
    "- 4770 - Total number of avocados with PLU 4770 sold\n",
    "\n",
    "![avocado](avocado.png \"\")\n"
   ]
  },
  {
   "cell_type": "markdown",
   "metadata": {},
   "source": [
    "Let get some background knowledge from [How to Identify Hass Avocados](https://loveonetoday.com/how-to/identify-hass-avocados/)\n",
    "\n",
    "The most commonly sold sizes of fresh Hass avocado can be identified by their Product Lookup code or PLU or sticker. Avocados are also available for sale in netted bags. \n",
    "\n",
    "- Small/Medium Hass Avocado (~3-5oz avocado) | #4046\n",
    "\n",
    "- Large Hass Avocado (~8-10oz avocado) | #4225\n",
    "\n",
    "- Extra Large Hass Avocado (~10-15oz avocado) | #4770"
   ]
  },
  {
   "cell_type": "markdown",
   "metadata": {},
   "source": [
    "Let get into our data"
   ]
  },
  {
   "cell_type": "code",
   "execution_count": 4,
   "metadata": {},
   "outputs": [
    {
     "data": {
      "text/plain": [
       "(18080, 14)"
      ]
     },
     "execution_count": 4,
     "metadata": {},
     "output_type": "execute_result"
    }
   ],
   "source": [
    "data.shape"
   ]
  },
  {
   "cell_type": "code",
   "execution_count": 5,
   "metadata": {},
   "outputs": [
    {
     "data": {
      "text/plain": [
       "Unnamed: 0      0\n",
       "Date            0\n",
       "AveragePrice    0\n",
       "Total Volume    0\n",
       "4046            0\n",
       "4225            0\n",
       "4770            0\n",
       "Total Bags      0\n",
       "Small Bags      0\n",
       "Large Bags      0\n",
       "XLarge Bags     0\n",
       "type            0\n",
       "year            0\n",
       "region          0\n",
       "dtype: int64"
      ]
     },
     "execution_count": 5,
     "metadata": {},
     "output_type": "execute_result"
    }
   ],
   "source": [
    "data.isnull().sum()"
   ]
  },
  {
   "cell_type": "markdown",
   "metadata": {},
   "source": [
    "The datasize is 18080 row with 14 column. This is very clean and nice data because there is no missing data."
   ]
  },
  {
   "cell_type": "markdown",
   "metadata": {},
   "source": [
    "## Explore data"
   ]
  },
  {
   "cell_type": "code",
   "execution_count": 6,
   "metadata": {},
   "outputs": [],
   "source": [
    "plu_4046 = sum(data['4046'])\n",
    "plu_4225 = sum(data['4225'])\n",
    "plu_4770 = sum(data['4770'])\n",
    "other = sum(data['Total Volume']) - sum([plu_4046,plu_4225,plu_4770])"
   ]
  },
  {
   "cell_type": "code",
   "execution_count": 7,
   "metadata": {},
   "outputs": [
    {
     "data": {
      "application/vnd.plotly.v1+json": {
       "config": {
        "linkText": "Export to plot.ly",
        "plotlyServerURL": "https://plot.ly",
        "showLink": false
       },
       "data": [
        {
         "type": "bar",
         "uid": "5781367d-0be9-49d5-8512-3520275691af",
         "x": [
          "PLU_4046",
          "PLU_4225",
          "PLU_4770",
          "other"
         ],
         "y": [
          3317254896.6000223,
          3423364230.8799787,
          261541372.18999866,
          2820020507.3700237
         ]
        }
       ],
       "layout": {}
      },
      "text/html": [
       "<div id=\"52f5e10c-529d-4bec-9374-15fb89592cd3\" style=\"height: 525px; width: 100%;\" class=\"plotly-graph-div\"></div><script type=\"text/javascript\">require([\"plotly\"], function(Plotly) { window.PLOTLYENV=window.PLOTLYENV || {};window.PLOTLYENV.BASE_URL=\"https://plot.ly\";Plotly.newPlot(\"52f5e10c-529d-4bec-9374-15fb89592cd3\", [{\"x\": [\"PLU_4046\", \"PLU_4225\", \"PLU_4770\", \"other\"], \"y\": [3317254896.6000223, 3423364230.8799787, 261541372.18999866, 2820020507.3700237], \"type\": \"bar\", \"uid\": \"af40b051-656c-4437-9f3d-823c2e82ca0c\"}], {}, {\"showLink\": false, \"linkText\": \"Export to plot.ly\", \"plotlyServerURL\": \"https://plot.ly\"})});</script><script type=\"text/javascript\">window.addEventListener(\"resize\", function(){window._Plotly.Plots.resize(document.getElementById(\"52f5e10c-529d-4bec-9374-15fb89592cd3\"));});</script>"
      ],
      "text/vnd.plotly.v1+html": [
       "<div id=\"52f5e10c-529d-4bec-9374-15fb89592cd3\" style=\"height: 525px; width: 100%;\" class=\"plotly-graph-div\"></div><script type=\"text/javascript\">require([\"plotly\"], function(Plotly) { window.PLOTLYENV=window.PLOTLYENV || {};window.PLOTLYENV.BASE_URL=\"https://plot.ly\";Plotly.newPlot(\"52f5e10c-529d-4bec-9374-15fb89592cd3\", [{\"x\": [\"PLU_4046\", \"PLU_4225\", \"PLU_4770\", \"other\"], \"y\": [3317254896.6000223, 3423364230.8799787, 261541372.18999866, 2820020507.3700237], \"type\": \"bar\", \"uid\": \"af40b051-656c-4437-9f3d-823c2e82ca0c\"}], {}, {\"showLink\": false, \"linkText\": \"Export to plot.ly\", \"plotlyServerURL\": \"https://plot.ly\"})});</script><script type=\"text/javascript\">window.addEventListener(\"resize\", function(){window._Plotly.Plots.resize(document.getElementById(\"52f5e10c-529d-4bec-9374-15fb89592cd3\"));});</script>"
      ]
     },
     "metadata": {},
     "output_type": "display_data"
    }
   ],
   "source": [
    "#plot total of each type of avocado.\n",
    "iplot([go.Bar(\n",
    "            x=['PLU_4046', 'PLU_4225', 'PLU_4770','other'],\n",
    "            y=[plu_4046, plu_4225, plu_4770, other]\n",
    "    )]\n",
    ")"
   ]
  },
  {
   "cell_type": "markdown",
   "metadata": {},
   "source": [
    "We can see that the amount of other types of avocado is significant. The amount of PLU_4770 is small compare to other type of avocado. This is expected as it is the most expensive price per avocado. Let create column for other type of avocado and change the name of PLU 4046, PLU 4225, PLU 4770 to medium, large and extra large (easier to remember)"
   ]
  },
  {
   "cell_type": "code",
   "execution_count": 8,
   "metadata": {},
   "outputs": [
    {
     "data": {
      "text/html": [
       "<div>\n",
       "<style scoped>\n",
       "    .dataframe tbody tr th:only-of-type {\n",
       "        vertical-align: middle;\n",
       "    }\n",
       "\n",
       "    .dataframe tbody tr th {\n",
       "        vertical-align: top;\n",
       "    }\n",
       "\n",
       "    .dataframe thead th {\n",
       "        text-align: right;\n",
       "    }\n",
       "</style>\n",
       "<table border=\"1\" class=\"dataframe\">\n",
       "  <thead>\n",
       "    <tr style=\"text-align: right;\">\n",
       "      <th></th>\n",
       "      <th>Unnamed: 0</th>\n",
       "      <th>Date</th>\n",
       "      <th>AveragePrice</th>\n",
       "      <th>Total Volume</th>\n",
       "      <th>Medium</th>\n",
       "      <th>Large</th>\n",
       "      <th>Extra Large</th>\n",
       "      <th>Other</th>\n",
       "      <th>Total Bags</th>\n",
       "      <th>Small Bags</th>\n",
       "      <th>Large Bags</th>\n",
       "      <th>XLarge Bags</th>\n",
       "      <th>type</th>\n",
       "      <th>year</th>\n",
       "      <th>region</th>\n",
       "    </tr>\n",
       "  </thead>\n",
       "  <tbody>\n",
       "    <tr>\n",
       "      <th>0</th>\n",
       "      <td>47</td>\n",
       "      <td>2017-02-05</td>\n",
       "      <td>0.66</td>\n",
       "      <td>11274749.11</td>\n",
       "      <td>4377537.67</td>\n",
       "      <td>2558039.85</td>\n",
       "      <td>193764.89</td>\n",
       "      <td>4145406.70</td>\n",
       "      <td>4145406.70</td>\n",
       "      <td>2508731.79</td>\n",
       "      <td>1627453.06</td>\n",
       "      <td>9221.85</td>\n",
       "      <td>conventional</td>\n",
       "      <td>2017</td>\n",
       "      <td>West</td>\n",
       "    </tr>\n",
       "    <tr>\n",
       "      <th>1</th>\n",
       "      <td>47</td>\n",
       "      <td>2017-02-05</td>\n",
       "      <td>0.67</td>\n",
       "      <td>11213596.29</td>\n",
       "      <td>3986429.59</td>\n",
       "      <td>3550403.07</td>\n",
       "      <td>214137.93</td>\n",
       "      <td>3462625.70</td>\n",
       "      <td>3462625.70</td>\n",
       "      <td>3403581.49</td>\n",
       "      <td>7838.83</td>\n",
       "      <td>51205.38</td>\n",
       "      <td>conventional</td>\n",
       "      <td>2017</td>\n",
       "      <td>California</td>\n",
       "    </tr>\n",
       "    <tr>\n",
       "      <th>2</th>\n",
       "      <td>7</td>\n",
       "      <td>2018-02-04</td>\n",
       "      <td>0.80</td>\n",
       "      <td>10894677.77</td>\n",
       "      <td>4473811.63</td>\n",
       "      <td>4097591.67</td>\n",
       "      <td>146357.78</td>\n",
       "      <td>2176916.69</td>\n",
       "      <td>2176916.69</td>\n",
       "      <td>2072477.62</td>\n",
       "      <td>34196.27</td>\n",
       "      <td>70242.80</td>\n",
       "      <td>conventional</td>\n",
       "      <td>2018</td>\n",
       "      <td>California</td>\n",
       "    </tr>\n",
       "    <tr>\n",
       "      <th>3</th>\n",
       "      <td>7</td>\n",
       "      <td>2018-02-04</td>\n",
       "      <td>0.83</td>\n",
       "      <td>10565056.41</td>\n",
       "      <td>3121272.58</td>\n",
       "      <td>3294335.87</td>\n",
       "      <td>142553.21</td>\n",
       "      <td>4006894.75</td>\n",
       "      <td>4006894.75</td>\n",
       "      <td>1151399.33</td>\n",
       "      <td>2838239.39</td>\n",
       "      <td>17256.03</td>\n",
       "      <td>conventional</td>\n",
       "      <td>2018</td>\n",
       "      <td>West</td>\n",
       "    </tr>\n",
       "    <tr>\n",
       "      <th>4</th>\n",
       "      <td>46</td>\n",
       "      <td>2016-02-07</td>\n",
       "      <td>0.70</td>\n",
       "      <td>10361698.17</td>\n",
       "      <td>2930343.28</td>\n",
       "      <td>3950852.38</td>\n",
       "      <td>424389.60</td>\n",
       "      <td>3056112.91</td>\n",
       "      <td>3056112.91</td>\n",
       "      <td>2693843.02</td>\n",
       "      <td>344774.59</td>\n",
       "      <td>17495.30</td>\n",
       "      <td>conventional</td>\n",
       "      <td>2016</td>\n",
       "      <td>California</td>\n",
       "    </tr>\n",
       "  </tbody>\n",
       "</table>\n",
       "</div>"
      ],
      "text/plain": [
       "   Unnamed: 0       Date  AveragePrice  Total Volume      Medium       Large  \\\n",
       "0          47 2017-02-05          0.66   11274749.11  4377537.67  2558039.85   \n",
       "1          47 2017-02-05          0.67   11213596.29  3986429.59  3550403.07   \n",
       "2           7 2018-02-04          0.80   10894677.77  4473811.63  4097591.67   \n",
       "3           7 2018-02-04          0.83   10565056.41  3121272.58  3294335.87   \n",
       "4          46 2016-02-07          0.70   10361698.17  2930343.28  3950852.38   \n",
       "\n",
       "   Extra Large       Other  Total Bags  Small Bags  Large Bags  XLarge Bags  \\\n",
       "0    193764.89  4145406.70  4145406.70  2508731.79  1627453.06      9221.85   \n",
       "1    214137.93  3462625.70  3462625.70  3403581.49     7838.83     51205.38   \n",
       "2    146357.78  2176916.69  2176916.69  2072477.62    34196.27     70242.80   \n",
       "3    142553.21  4006894.75  4006894.75  1151399.33  2838239.39     17256.03   \n",
       "4    424389.60  3056112.91  3056112.91  2693843.02   344774.59     17495.30   \n",
       "\n",
       "           type  year      region  \n",
       "0  conventional  2017        West  \n",
       "1  conventional  2017  California  \n",
       "2  conventional  2018  California  \n",
       "3  conventional  2018        West  \n",
       "4  conventional  2016  California  "
      ]
     },
     "execution_count": 8,
     "metadata": {},
     "output_type": "execute_result"
    }
   ],
   "source": [
    "df = data\n",
    "df = df.rename(index=str, columns={\"4046\": \"Medium\", \"4225\": \"Large\", \"4770\":\"Extra Large\"})\n",
    "newCol = df['Total Volume'] - df[\"Medium\"]-df[\"Large\"]-df[\"Extra Large\"]\n",
    "df.insert(loc=7, column=\"Other\", value=newCol)\n",
    "df.head()"
   ]
  },
  {
   "cell_type": "markdown",
   "metadata": {},
   "source": [
    "We use sns.heatmap to see the correlation between fundamental value. We drop the bags because the average price per avocado in different size of bags does not significantly different."
   ]
  },
  {
   "cell_type": "code",
   "execution_count": 9,
   "metadata": {},
   "outputs": [],
   "source": [
    "df = df.drop(['Total Bags', 'Small Bags', 'Large Bags','XLarge Bags','Unnamed: 0'], axis=1)"
   ]
  },
  {
   "cell_type": "code",
   "execution_count": 10,
   "metadata": {
    "scrolled": true
   },
   "outputs": [
    {
     "data": {
      "text/html": [
       "<div>\n",
       "<style scoped>\n",
       "    .dataframe tbody tr th:only-of-type {\n",
       "        vertical-align: middle;\n",
       "    }\n",
       "\n",
       "    .dataframe tbody tr th {\n",
       "        vertical-align: top;\n",
       "    }\n",
       "\n",
       "    .dataframe thead th {\n",
       "        text-align: right;\n",
       "    }\n",
       "</style>\n",
       "<table border=\"1\" class=\"dataframe\">\n",
       "  <thead>\n",
       "    <tr style=\"text-align: right;\">\n",
       "      <th></th>\n",
       "      <th>Date</th>\n",
       "      <th>AveragePrice</th>\n",
       "      <th>Total Volume</th>\n",
       "      <th>Medium</th>\n",
       "      <th>Large</th>\n",
       "      <th>Extra Large</th>\n",
       "      <th>Other</th>\n",
       "      <th>type</th>\n",
       "      <th>year</th>\n",
       "      <th>region</th>\n",
       "    </tr>\n",
       "  </thead>\n",
       "  <tbody>\n",
       "    <tr>\n",
       "      <th>1443</th>\n",
       "      <td>2018-02-18</td>\n",
       "      <td>1.52</td>\n",
       "      <td>1814929.97</td>\n",
       "      <td>246515.35</td>\n",
       "      <td>680037.45</td>\n",
       "      <td>1905.46</td>\n",
       "      <td>886471.71</td>\n",
       "      <td>organic</td>\n",
       "      <td>2018</td>\n",
       "      <td>TotalUS</td>\n",
       "    </tr>\n",
       "    <tr>\n",
       "      <th>1494</th>\n",
       "      <td>2018-03-18</td>\n",
       "      <td>1.54</td>\n",
       "      <td>1675804.22</td>\n",
       "      <td>170801.85</td>\n",
       "      <td>444949.69</td>\n",
       "      <td>1045.38</td>\n",
       "      <td>1059007.30</td>\n",
       "      <td>organic</td>\n",
       "      <td>2018</td>\n",
       "      <td>TotalUS</td>\n",
       "    </tr>\n",
       "    <tr>\n",
       "      <th>1502</th>\n",
       "      <td>2018-03-11</td>\n",
       "      <td>1.52</td>\n",
       "      <td>1664234.88</td>\n",
       "      <td>129169.72</td>\n",
       "      <td>408763.50</td>\n",
       "      <td>1401.87</td>\n",
       "      <td>1124899.79</td>\n",
       "      <td>organic</td>\n",
       "      <td>2018</td>\n",
       "      <td>TotalUS</td>\n",
       "    </tr>\n",
       "    <tr>\n",
       "      <th>1511</th>\n",
       "      <td>2017-02-19</td>\n",
       "      <td>1.31</td>\n",
       "      <td>1634877.11</td>\n",
       "      <td>250591.21</td>\n",
       "      <td>632101.53</td>\n",
       "      <td>3295.09</td>\n",
       "      <td>748889.28</td>\n",
       "      <td>organic</td>\n",
       "      <td>2017</td>\n",
       "      <td>TotalUS</td>\n",
       "    </tr>\n",
       "    <tr>\n",
       "      <th>1512</th>\n",
       "      <td>2018-03-04</td>\n",
       "      <td>1.52</td>\n",
       "      <td>1634430.77</td>\n",
       "      <td>142345.03</td>\n",
       "      <td>390129.50</td>\n",
       "      <td>1225.97</td>\n",
       "      <td>1100730.27</td>\n",
       "      <td>organic</td>\n",
       "      <td>2018</td>\n",
       "      <td>TotalUS</td>\n",
       "    </tr>\n",
       "  </tbody>\n",
       "</table>\n",
       "</div>"
      ],
      "text/plain": [
       "           Date  AveragePrice  Total Volume     Medium      Large  \\\n",
       "1443 2018-02-18          1.52    1814929.97  246515.35  680037.45   \n",
       "1494 2018-03-18          1.54    1675804.22  170801.85  444949.69   \n",
       "1502 2018-03-11          1.52    1664234.88  129169.72  408763.50   \n",
       "1511 2017-02-19          1.31    1634877.11  250591.21  632101.53   \n",
       "1512 2018-03-04          1.52    1634430.77  142345.03  390129.50   \n",
       "\n",
       "      Extra Large       Other     type  year   region  \n",
       "1443      1905.46   886471.71  organic  2018  TotalUS  \n",
       "1494      1045.38  1059007.30  organic  2018  TotalUS  \n",
       "1502      1401.87  1124899.79  organic  2018  TotalUS  \n",
       "1511      3295.09   748889.28  organic  2017  TotalUS  \n",
       "1512      1225.97  1100730.27  organic  2018  TotalUS  "
      ]
     },
     "execution_count": 10,
     "metadata": {},
     "output_type": "execute_result"
    }
   ],
   "source": [
    "df_totalUS = df[df['region']=='TotalUS']\n",
    "df_totalUS.head()"
   ]
  },
  {
   "cell_type": "code",
   "execution_count": 11,
   "metadata": {},
   "outputs": [],
   "source": [
    "df_totalUS.to_csv(\"total_us.csv\", sep=\",\")"
   ]
  },
  {
   "cell_type": "markdown",
   "metadata": {},
   "source": [
    "Let see if we can see any patern of Avocadopocalypse during 2017. "
   ]
  },
  {
   "cell_type": "code",
   "execution_count": 12,
   "metadata": {},
   "outputs": [
    {
     "data": {
      "text/html": [
       "<script type='text/javascript' src='https://us-east-1.online.tableau.com/javascripts/api/viz_v1.js'></script><div class='tableauPlaceholder' style='width: 1440px; height: 732px;'><object class='tableauViz' width='1440' height='732' style='display:none;'><param name='host_url' value='https%3A%2F%2Fus-east-1.online.tableau.com%2F' /> <param name='embed_code_version' value='3' /> <param name='site_root' value='&#47;t&#47;sangle' /><param name='name' value='year_plot&#47;Sheet1' /><param name='tabs' value='no' /><param name='toolbar' value='yes' /><param name='showAppBanner' value='false' /><param name='filter' value='iframeSizedToWindow=true' /></object></div>\n"
      ],
      "text/plain": [
       "<IPython.core.display.HTML object>"
      ]
     },
     "metadata": {},
     "output_type": "display_data"
    }
   ],
   "source": [
    "%%HTML\n",
    "<script type='text/javascript' src='https://us-east-1.online.tableau.com/javascripts/api/viz_v1.js'></script><div class='tableauPlaceholder' style='width: 1440px; height: 732px;'><object class='tableauViz' width='1440' height='732' style='display:none;'><param name='host_url' value='https%3A%2F%2Fus-east-1.online.tableau.com%2F' /> <param name='embed_code_version' value='3' /> <param name='site_root' value='&#47;t&#47;sangle' /><param name='name' value='year_plot&#47;Sheet1' /><param name='tabs' value='no' /><param name='toolbar' value='yes' /><param name='showAppBanner' value='false' /><param name='filter' value='iframeSizedToWindow=true' /></object></div>"
   ]
  },
  {
   "cell_type": "markdown",
   "metadata": {},
   "source": [
    "We do see that the price of avocado during 2017 time is extremely high (2.008) compare to the highest price before (1.775) according to the total of US state. Other state shows the same pattern as well. Our plan is to train the data based on previous years to see what is the predicting value for 2017. "
   ]
  },
  {
   "cell_type": "code",
   "execution_count": 13,
   "metadata": {},
   "outputs": [],
   "source": [
    "# Train data"
   ]
  },
  {
   "cell_type": "markdown",
   "metadata": {},
   "source": [
    "First, let do this in TotalUS."
   ]
  },
  {
   "cell_type": "markdown",
   "metadata": {},
   "source": [
    "We can see the quarter has the pattern that the demand increases from Q4 to Q2 and decreaes from Q2 to Q4. This is very interesting so we will treat datetime as categorical variable. We will divide the date to 4 quarters. "
   ]
  },
  {
   "cell_type": "code",
   "execution_count": 14,
   "metadata": {},
   "outputs": [],
   "source": [
    "Q1 = (df_totalUS['Date'].dt.quarter==1)\n",
    "Q2 = (df_totalUS['Date'].dt.quarter==2)\n",
    "Q3 = (df_totalUS['Date'].dt.quarter==3)\n",
    "Q4 = (df_totalUS['Date'].dt.quarter==4)\n",
    "\n",
    "a_2018 = (df_totalUS['year']==2018)\n",
    "a_2017 = (df_totalUS['year']==2017)\n",
    "a_2016 = (df_totalUS['year']==2016)\n",
    "a_2015 = (df_totalUS['year']==2015)\n",
    "\n",
    "\n",
    "Organic = (df_totalUS['type']=='organic')\n",
    "Conv = (df_totalUS['type']=='conventional')"
   ]
  },
  {
   "cell_type": "code",
   "execution_count": 15,
   "metadata": {},
   "outputs": [],
   "source": [
    "df_totalUS.insert(loc=2, column=\"Q4\", value=Q4)\n",
    "df_totalUS.insert(loc=2, column=\"Q3\", value=Q3)\n",
    "df_totalUS.insert(loc=2, column=\"Q2\", value=Q2)\n",
    "df_totalUS.insert(loc=2, column=\"Q1\", value=Q1)\n",
    "\n",
    "df_totalUS.insert(loc=12, column=\"2015\", value=a_2015)\n",
    "df_totalUS.insert(loc=12, column=\"2016\", value=a_2016)\n",
    "df_totalUS.insert(loc=12, column=\"2017\", value=a_2017)\n",
    "df_totalUS.insert(loc=12, column=\"2018\", value=a_2018)"
   ]
  },
  {
   "cell_type": "code",
   "execution_count": 16,
   "metadata": {},
   "outputs": [],
   "source": [
    "df_totalUS.insert(loc=14, column=\"organic\", value=Organic)\n",
    "df_totalUS.insert(loc=14, column=\"conventional\", value=Conv)"
   ]
  },
  {
   "cell_type": "code",
   "execution_count": 17,
   "metadata": {},
   "outputs": [],
   "source": [
    "from sklearn.ensemble import RandomForestClassifier\n",
    "from sklearn.metrics import precision_recall_curve\n",
    "from sklearn.model_selection import train_test_split\n",
    "#from sklearn import cross_validation\n",
    "from sklearn.neighbors import KNeighborsClassifier\n",
    "from sklearn.ensemble import RandomForestClassifier\n",
    "from sklearn.linear_model import LogisticRegression\n",
    "from sklearn.metrics import roc_curve, auc\n",
    "import warnings\n",
    "warnings.filterwarnings('ignore')\n"
   ]
  },
  {
   "cell_type": "code",
   "execution_count": 18,
   "metadata": {},
   "outputs": [],
   "source": [
    "time_2017 = pd.Timestamp(year=2017, month=1, day=1)\n",
    "df_totalUS_train = df_totalUS[df_totalUS['Date']<time_2017]\n",
    "df_totalUS_predict = df_totalUS[df_totalUS['Date']>=time_2017]"
   ]
  },
  {
   "cell_type": "code",
   "execution_count": 19,
   "metadata": {},
   "outputs": [],
   "source": [
    "# x = data[['Total Volume','type']]\n",
    "x = df_totalUS_train.drop(['AveragePrice','region','Date','type'], axis = 1)\n",
    "y = df_totalUS_train.AveragePrice\n",
    "\n",
    "x_train,x_test,y_train,y_test = train_test_split(x,y,random_state = 0)"
   ]
  },
  {
   "cell_type": "code",
   "execution_count": 20,
   "metadata": {},
   "outputs": [
    {
     "data": {
      "text/plain": [
       "0.029140563985586756"
      ]
     },
     "execution_count": 20,
     "metadata": {},
     "output_type": "execute_result"
    }
   ],
   "source": [
    "from sklearn.linear_model import LinearRegression\n",
    "reg = LinearRegression().fit(x_train, y_train)\n",
    "mean_squared_error(y_test, reg.predict(x_test))"
   ]
  },
  {
   "cell_type": "code",
   "execution_count": 21,
   "metadata": {},
   "outputs": [
    {
     "data": {
      "text/plain": [
       "0.02754120266481487"
      ]
     },
     "execution_count": 21,
     "metadata": {},
     "output_type": "execute_result"
    }
   ],
   "source": [
    "from sklearn import linear_model\n",
    "lasso = linear_model.Lasso(alpha=0.1).fit(x_train, y_train)\n",
    "lasso.predict(x_test)\n",
    "mean_squared_error(y_test, lasso.predict(x_test))"
   ]
  },
  {
   "cell_type": "code",
   "execution_count": 22,
   "metadata": {},
   "outputs": [
    {
     "data": {
      "text/plain": [
       "0.028178138853729554"
      ]
     },
     "execution_count": 22,
     "metadata": {},
     "output_type": "execute_result"
    }
   ],
   "source": [
    "from sklearn.linear_model import Ridge\n",
    "ridge = Ridge(alpha=10.0).fit(x_train,y_train)\n",
    "ridge.predict(x_test)\n",
    "mean_squared_error(y_test, ridge.predict(x_test))"
   ]
  },
  {
   "cell_type": "markdown",
   "metadata": {},
   "source": [
    "Let use our predicted value and map with real data."
   ]
  },
  {
   "cell_type": "code",
   "execution_count": 23,
   "metadata": {},
   "outputs": [],
   "source": [
    "x_real_test = df_totalUS.drop(['AveragePrice','region','Date','type'], axis = 1)"
   ]
  },
  {
   "cell_type": "code",
   "execution_count": 24,
   "metadata": {},
   "outputs": [
    {
     "data": {
      "text/plain": [
       "[<matplotlib.lines.Line2D at 0x1a20865ef0>]"
      ]
     },
     "execution_count": 24,
     "metadata": {},
     "output_type": "execute_result"
    },
    {
     "data": {
      "image/png": "[encoded data removed]",
      "text/plain": [
       "<Figure size 432x288 with 1 Axes>"
      ]
     },
     "metadata": {
      "needs_background": "light"
     },
     "output_type": "display_data"
    }
   ],
   "source": [
    "plt.plot_date(df_totalUS['Date'], reg.predict(x_real_test), label=\"Reg\")\n",
    "plt.plot_date(df_totalUS['Date'], lasso.predict(x_real_test), label=\"Lasso\")\n",
    "plt.plot_date(df_totalUS['Date'], ridge.predict(x_real_test), label=\"Ridge\")\n",
    "\n",
    "plt.plot_date(df_totalUS['Date'], df_totalUS['AveragePrice'])"
   ]
  },
  {
   "cell_type": "code",
   "execution_count": 25,
   "metadata": {
    "scrolled": true
   },
   "outputs": [
    {
     "data": {
      "text/html": [
       "<script type='text/javascript' src='https://us-east-1.online.tableau.com/javascripts/api/viz_v1.js'></script><div class='tableauPlaceholder' style='width: 1440px; height: 683px;'><object class='tableauViz' width='1440' height='683' style='display:none;'><param name='host_url' value='https%3A%2F%2Fus-east-1.online.tableau.com%2F' /> <param name='embed_code_version' value='3' /> <param name='site_root' value='&#47;t&#47;sangle' /><param name='name' value='Predict_plot&#47;Sheet2' /><param name='tabs' value='no' /><param name='toolbar' value='yes' /><param name='showAppBanner' value='false' /><param name='filter' value='iframeSizedToWindow=true' /></object></div>\n"
      ],
      "text/plain": [
       "<IPython.core.display.HTML object>"
      ]
     },
     "metadata": {},
     "output_type": "display_data"
    }
   ],
   "source": [
    "%%HTML\n",
    "<script type='text/javascript' src='https://us-east-1.online.tableau.com/javascripts/api/viz_v1.js'></script><div class='tableauPlaceholder' style='width: 1440px; height: 683px;'><object class='tableauViz' width='1440' height='683' style='display:none;'><param name='host_url' value='https%3A%2F%2Fus-east-1.online.tableau.com%2F' /> <param name='embed_code_version' value='3' /> <param name='site_root' value='&#47;t&#47;sangle' /><param name='name' value='Predict_plot&#47;Sheet2' /><param name='tabs' value='no' /><param name='toolbar' value='yes' /><param name='showAppBanner' value='false' /><param name='filter' value='iframeSizedToWindow=true' /></object></div>"
   ]
  },
  {
   "cell_type": "markdown",
   "metadata": {},
   "source": [
    "The price of 2017 is really unpredicable. So we do really have Avocadopocalypse"
   ]
  },
  {
   "cell_type": "code",
   "execution_count": 26,
   "metadata": {},
   "outputs": [
    {
     "data": {
      "text/html": [
       "<div>\n",
       "<style scoped>\n",
       "    .dataframe tbody tr th:only-of-type {\n",
       "        vertical-align: middle;\n",
       "    }\n",
       "\n",
       "    .dataframe tbody tr th {\n",
       "        vertical-align: top;\n",
       "    }\n",
       "\n",
       "    .dataframe thead th {\n",
       "        text-align: right;\n",
       "    }\n",
       "</style>\n",
       "<table border=\"1\" class=\"dataframe\">\n",
       "  <thead>\n",
       "    <tr style=\"text-align: right;\">\n",
       "      <th></th>\n",
       "      <th>LR</th>\n",
       "      <th>Lasso</th>\n",
       "      <th>Ridge</th>\n",
       "    </tr>\n",
       "  </thead>\n",
       "  <tbody>\n",
       "    <tr>\n",
       "      <th>0</th>\n",
       "      <td>-6.574255e-02</td>\n",
       "      <td>-0.000000e+00</td>\n",
       "      <td>-4.103706e-02</td>\n",
       "    </tr>\n",
       "    <tr>\n",
       "      <th>1</th>\n",
       "      <td>9.341593e-02</td>\n",
       "      <td>0.000000e+00</td>\n",
       "      <td>4.761171e-02</td>\n",
       "    </tr>\n",
       "    <tr>\n",
       "      <th>2</th>\n",
       "      <td>-3.093193e-02</td>\n",
       "      <td>-0.000000e+00</td>\n",
       "      <td>-2.144860e-02</td>\n",
       "    </tr>\n",
       "    <tr>\n",
       "      <th>3</th>\n",
       "      <td>3.258543e-03</td>\n",
       "      <td>0.000000e+00</td>\n",
       "      <td>1.487394e-02</td>\n",
       "    </tr>\n",
       "    <tr>\n",
       "      <th>4</th>\n",
       "      <td>-1.354762e-06</td>\n",
       "      <td>-2.286555e-07</td>\n",
       "      <td>-1.209498e-06</td>\n",
       "    </tr>\n",
       "    <tr>\n",
       "      <th>5</th>\n",
       "      <td>8.244363e-07</td>\n",
       "      <td>-2.624443e-07</td>\n",
       "      <td>7.257494e-07</td>\n",
       "    </tr>\n",
       "    <tr>\n",
       "      <th>6</th>\n",
       "      <td>6.834671e-07</td>\n",
       "      <td>6.366770e-09</td>\n",
       "      <td>7.855827e-07</td>\n",
       "    </tr>\n",
       "    <tr>\n",
       "      <th>7</th>\n",
       "      <td>-4.065554e-06</td>\n",
       "      <td>-5.099735e-06</td>\n",
       "      <td>-3.778095e-06</td>\n",
       "    </tr>\n",
       "    <tr>\n",
       "      <th>8</th>\n",
       "      <td>1.202889e-06</td>\n",
       "      <td>4.802008e-08</td>\n",
       "      <td>1.057285e-06</td>\n",
       "    </tr>\n",
       "    <tr>\n",
       "      <th>9</th>\n",
       "      <td>0.000000e+00</td>\n",
       "      <td>0.000000e+00</td>\n",
       "      <td>0.000000e+00</td>\n",
       "    </tr>\n",
       "    <tr>\n",
       "      <th>10</th>\n",
       "      <td>0.000000e+00</td>\n",
       "      <td>0.000000e+00</td>\n",
       "      <td>0.000000e+00</td>\n",
       "    </tr>\n",
       "    <tr>\n",
       "      <th>11</th>\n",
       "      <td>0.000000e+00</td>\n",
       "      <td>0.000000e+00</td>\n",
       "      <td>0.000000e+00</td>\n",
       "    </tr>\n",
       "    <tr>\n",
       "      <th>12</th>\n",
       "      <td>0.000000e+00</td>\n",
       "      <td>0.000000e+00</td>\n",
       "      <td>0.000000e+00</td>\n",
       "    </tr>\n",
       "    <tr>\n",
       "      <th>13</th>\n",
       "      <td>6.114333e-03</td>\n",
       "      <td>-0.000000e+00</td>\n",
       "      <td>6.242924e-04</td>\n",
       "    </tr>\n",
       "    <tr>\n",
       "      <th>14</th>\n",
       "      <td>-6.114333e-03</td>\n",
       "      <td>0.000000e+00</td>\n",
       "      <td>-6.242924e-04</td>\n",
       "    </tr>\n",
       "    <tr>\n",
       "      <th>15</th>\n",
       "      <td>6.114333e-03</td>\n",
       "      <td>-0.000000e+00</td>\n",
       "      <td>6.242924e-04</td>\n",
       "    </tr>\n",
       "  </tbody>\n",
       "</table>\n",
       "</div>"
      ],
      "text/plain": [
       "              LR         Lasso         Ridge\n",
       "0  -6.574255e-02 -0.000000e+00 -4.103706e-02\n",
       "1   9.341593e-02  0.000000e+00  4.761171e-02\n",
       "2  -3.093193e-02 -0.000000e+00 -2.144860e-02\n",
       "3   3.258543e-03  0.000000e+00  1.487394e-02\n",
       "4  -1.354762e-06 -2.286555e-07 -1.209498e-06\n",
       "5   8.244363e-07 -2.624443e-07  7.257494e-07\n",
       "6   6.834671e-07  6.366770e-09  7.855827e-07\n",
       "7  -4.065554e-06 -5.099735e-06 -3.778095e-06\n",
       "8   1.202889e-06  4.802008e-08  1.057285e-06\n",
       "9   0.000000e+00  0.000000e+00  0.000000e+00\n",
       "10  0.000000e+00  0.000000e+00  0.000000e+00\n",
       "11  0.000000e+00  0.000000e+00  0.000000e+00\n",
       "12  0.000000e+00  0.000000e+00  0.000000e+00\n",
       "13  6.114333e-03 -0.000000e+00  6.242924e-04\n",
       "14 -6.114333e-03  0.000000e+00 -6.242924e-04\n",
       "15  6.114333e-03 -0.000000e+00  6.242924e-04"
      ]
     },
     "execution_count": 26,
     "metadata": {},
     "output_type": "execute_result"
    }
   ],
   "source": [
    "coef_table = pd.DataFrame()\n",
    "coef_table['LR'] = reg.coef_\n",
    "coef_table['Lasso'] = lasso.coef_\n",
    "coef_table['Ridge'] = ridge.coef_\n",
    "coef_table"
   ]
  },
  {
   "cell_type": "code",
   "execution_count": 27,
   "metadata": {},
   "outputs": [],
   "source": [
    "cpdf = pd.DataFrame()\n",
    "cpdf['Value'] = y_test\n",
    "cpdf['Ridge'] = ridge.predict(x_test)\n",
    "cpdf['Lasso'] = lasso.predict(x_test)\n",
    "cpdf['LR'] = reg.predict(x_test)"
   ]
  },
  {
   "cell_type": "code",
   "execution_count": 28,
   "metadata": {},
   "outputs": [
    {
     "data": {
      "text/html": [
       "<div>\n",
       "<style scoped>\n",
       "    .dataframe tbody tr th:only-of-type {\n",
       "        vertical-align: middle;\n",
       "    }\n",
       "\n",
       "    .dataframe tbody tr th {\n",
       "        vertical-align: top;\n",
       "    }\n",
       "\n",
       "    .dataframe thead th {\n",
       "        text-align: right;\n",
       "    }\n",
       "</style>\n",
       "<table border=\"1\" class=\"dataframe\">\n",
       "  <thead>\n",
       "    <tr style=\"text-align: right;\">\n",
       "      <th></th>\n",
       "      <th>Value</th>\n",
       "      <th>Ridge</th>\n",
       "      <th>Lasso</th>\n",
       "      <th>LR</th>\n",
       "    </tr>\n",
       "  </thead>\n",
       "  <tbody>\n",
       "    <tr>\n",
       "      <th>2394</th>\n",
       "      <td>1.65</td>\n",
       "      <td>1.424005</td>\n",
       "      <td>1.450275</td>\n",
       "      <td>1.411649</td>\n",
       "    </tr>\n",
       "    <tr>\n",
       "      <th>3066</th>\n",
       "      <td>1.63</td>\n",
       "      <td>1.551306</td>\n",
       "      <td>1.524767</td>\n",
       "      <td>1.565167</td>\n",
       "    </tr>\n",
       "    <tr>\n",
       "      <th>1930</th>\n",
       "      <td>1.26</td>\n",
       "      <td>1.437704</td>\n",
       "      <td>1.398350</td>\n",
       "      <td>1.467558</td>\n",
       "    </tr>\n",
       "    <tr>\n",
       "      <th>3087</th>\n",
       "      <td>1.44</td>\n",
       "      <td>1.452023</td>\n",
       "      <td>1.484236</td>\n",
       "      <td>1.443511</td>\n",
       "    </tr>\n",
       "    <tr>\n",
       "      <th>3465</th>\n",
       "      <td>1.00</td>\n",
       "      <td>1.500662</td>\n",
       "      <td>1.521567</td>\n",
       "      <td>1.491261</td>\n",
       "    </tr>\n",
       "  </tbody>\n",
       "</table>\n",
       "</div>"
      ],
      "text/plain": [
       "      Value     Ridge     Lasso        LR\n",
       "2394   1.65  1.424005  1.450275  1.411649\n",
       "3066   1.63  1.551306  1.524767  1.565167\n",
       "1930   1.26  1.437704  1.398350  1.467558\n",
       "3087   1.44  1.452023  1.484236  1.443511\n",
       "3465   1.00  1.500662  1.521567  1.491261"
      ]
     },
     "execution_count": 28,
     "metadata": {},
     "output_type": "execute_result"
    }
   ],
   "source": [
    "cpdf.head()"
   ]
  },
  {
   "cell_type": "code",
   "execution_count": 29,
   "metadata": {},
   "outputs": [],
   "source": [
    "import matplotlib.pyplot as plt\n",
    "%matplotlib inline\n",
    "\n",
    "#plt.plot( data['Total Volume'], data['AveragePrice'],'.')"
   ]
  },
  {
   "cell_type": "code",
   "execution_count": 30,
   "metadata": {},
   "outputs": [],
   "source": [
    "#from IPython.display import Image\n",
    "#Image(\"year_plot.png\")"
   ]
  },
  {
   "cell_type": "code",
   "execution_count": 31,
   "metadata": {},
   "outputs": [],
   "source": [
    "#data['Money'] = data['AveragePrice']*data['Total Volume']"
   ]
  },
  {
   "cell_type": "code",
   "execution_count": 32,
   "metadata": {},
   "outputs": [
    {
     "data": {
      "image/png": "[encoded data removed]",
      "text/plain": [
       "<Figure size 432x288 with 1 Axes>"
      ]
     },
     "metadata": {
      "needs_background": "light"
     },
     "output_type": "display_data"
    }
   ],
   "source": [
    "lasso_coef = []\n",
    "index =[]\n",
    "for i in range (100):\n",
    "    lasso = linear_model.Lasso(alpha=0.1*i).fit(x_train, y_train)\n",
    "    lasso.predict(x_test)\n",
    "    lasso_coef.append( mean_squared_error(y_test, lasso.predict(x_test)))\n",
    "    index.append(0.1*i)\n",
    "    plt.plot(index, lasso_coef, 'ro')"
   ]
  },
  {
   "cell_type": "code",
   "execution_count": 33,
   "metadata": {},
   "outputs": [
    {
     "data": {
      "text/plain": [
       "[<matplotlib.lines.Line2D at 0x1a217630b8>]"
      ]
     },
     "execution_count": 33,
     "metadata": {},
     "output_type": "execute_result"
    },
    {
     "data": {
      "image/png": "[encoded data removed]",
      "text/plain": [
       "<Figure size 432x288 with 1 Axes>"
      ]
     },
     "metadata": {
      "needs_background": "light"
     },
     "output_type": "display_data"
    }
   ],
   "source": [
    "plt.plot(index[20:99], lasso_coef[20:99], 'ro')"
   ]
  },
  {
   "cell_type": "code",
   "execution_count": 34,
   "metadata": {},
   "outputs": [
    {
     "data": {
      "text/plain": [
       "[<matplotlib.lines.Line2D at 0x1a218a3320>]"
      ]
     },
     "execution_count": 34,
     "metadata": {},
     "output_type": "execute_result"
    },
    {
     "data": {
      "image/png": "[encoded data removed]",
      "text/plain": [
       "<Figure size 432x288 with 1 Axes>"
      ]
     },
     "metadata": {
      "needs_background": "light"
     },
     "output_type": "display_data"
    }
   ],
   "source": [
    "ridge_coef = []\n",
    "index_100 =[]\n",
    "for i in range (100):\n",
    "    ridge = Ridge(alpha=i*0.1).fit(x_train,y_train)\n",
    "    ridge.predict(x_test)\n",
    "    ridge_coef.append(mean_squared_error(y_test, ridge.predict(x_test)))\n",
    "    index_100.append(0.1*i)\n",
    "plt.plot(index_100, ridge_coef, 'ro')"
   ]
  },
  {
   "cell_type": "code",
   "execution_count": 35,
   "metadata": {},
   "outputs": [
    {
     "data": {
      "text/plain": [
       "0.04456340144230768"
      ]
     },
     "execution_count": 35,
     "metadata": {},
     "output_type": "execute_result"
    }
   ],
   "source": [
    "ridge_coef[0]"
   ]
  },
  {
   "cell_type": "markdown",
   "metadata": {},
   "source": [
    "# Region"
   ]
  },
  {
   "cell_type": "code",
   "execution_count": 36,
   "metadata": {},
   "outputs": [],
   "source": [
    "data_column = data['region'].unique()"
   ]
  },
  {
   "cell_type": "code",
   "execution_count": 37,
   "metadata": {},
   "outputs": [],
   "source": [
    "data_temp = data\n",
    "for d in data_column:\n",
    "    temp = (data['region']==d)\n",
    "    data_temp[d] = temp"
   ]
  },
  {
   "cell_type": "code",
   "execution_count": 38,
   "metadata": {},
   "outputs": [
    {
     "data": {
      "text/html": [
       "<div>\n",
       "<style scoped>\n",
       "    .dataframe tbody tr th:only-of-type {\n",
       "        vertical-align: middle;\n",
       "    }\n",
       "\n",
       "    .dataframe tbody tr th {\n",
       "        vertical-align: top;\n",
       "    }\n",
       "\n",
       "    .dataframe thead th {\n",
       "        text-align: right;\n",
       "    }\n",
       "</style>\n",
       "<table border=\"1\" class=\"dataframe\">\n",
       "  <thead>\n",
       "    <tr style=\"text-align: right;\">\n",
       "      <th></th>\n",
       "      <th>Unnamed: 0</th>\n",
       "      <th>Date</th>\n",
       "      <th>AveragePrice</th>\n",
       "      <th>Total Volume</th>\n",
       "      <th>4046</th>\n",
       "      <th>4225</th>\n",
       "      <th>4770</th>\n",
       "      <th>Total Bags</th>\n",
       "      <th>Small Bags</th>\n",
       "      <th>Large Bags</th>\n",
       "      <th>...</th>\n",
       "      <th>Indianapolis</th>\n",
       "      <th>Columbus</th>\n",
       "      <th>Roanoke</th>\n",
       "      <th>Albany</th>\n",
       "      <th>Pittsburgh</th>\n",
       "      <th>BuffaloRochester</th>\n",
       "      <th>Louisville</th>\n",
       "      <th>Spokane</th>\n",
       "      <th>Boise</th>\n",
       "      <th>Syracuse</th>\n",
       "    </tr>\n",
       "  </thead>\n",
       "  <tbody>\n",
       "    <tr>\n",
       "      <th>0</th>\n",
       "      <td>47</td>\n",
       "      <td>2017-02-05</td>\n",
       "      <td>0.66</td>\n",
       "      <td>11274749.11</td>\n",
       "      <td>4377537.67</td>\n",
       "      <td>2558039.85</td>\n",
       "      <td>193764.89</td>\n",
       "      <td>4145406.70</td>\n",
       "      <td>2508731.79</td>\n",
       "      <td>1627453.06</td>\n",
       "      <td>...</td>\n",
       "      <td>False</td>\n",
       "      <td>False</td>\n",
       "      <td>False</td>\n",
       "      <td>False</td>\n",
       "      <td>False</td>\n",
       "      <td>False</td>\n",
       "      <td>False</td>\n",
       "      <td>False</td>\n",
       "      <td>False</td>\n",
       "      <td>False</td>\n",
       "    </tr>\n",
       "    <tr>\n",
       "      <th>1</th>\n",
       "      <td>47</td>\n",
       "      <td>2017-02-05</td>\n",
       "      <td>0.67</td>\n",
       "      <td>11213596.29</td>\n",
       "      <td>3986429.59</td>\n",
       "      <td>3550403.07</td>\n",
       "      <td>214137.93</td>\n",
       "      <td>3462625.70</td>\n",
       "      <td>3403581.49</td>\n",
       "      <td>7838.83</td>\n",
       "      <td>...</td>\n",
       "      <td>False</td>\n",
       "      <td>False</td>\n",
       "      <td>False</td>\n",
       "      <td>False</td>\n",
       "      <td>False</td>\n",
       "      <td>False</td>\n",
       "      <td>False</td>\n",
       "      <td>False</td>\n",
       "      <td>False</td>\n",
       "      <td>False</td>\n",
       "    </tr>\n",
       "    <tr>\n",
       "      <th>2</th>\n",
       "      <td>7</td>\n",
       "      <td>2018-02-04</td>\n",
       "      <td>0.80</td>\n",
       "      <td>10894677.77</td>\n",
       "      <td>4473811.63</td>\n",
       "      <td>4097591.67</td>\n",
       "      <td>146357.78</td>\n",
       "      <td>2176916.69</td>\n",
       "      <td>2072477.62</td>\n",
       "      <td>34196.27</td>\n",
       "      <td>...</td>\n",
       "      <td>False</td>\n",
       "      <td>False</td>\n",
       "      <td>False</td>\n",
       "      <td>False</td>\n",
       "      <td>False</td>\n",
       "      <td>False</td>\n",
       "      <td>False</td>\n",
       "      <td>False</td>\n",
       "      <td>False</td>\n",
       "      <td>False</td>\n",
       "    </tr>\n",
       "    <tr>\n",
       "      <th>3</th>\n",
       "      <td>7</td>\n",
       "      <td>2018-02-04</td>\n",
       "      <td>0.83</td>\n",
       "      <td>10565056.41</td>\n",
       "      <td>3121272.58</td>\n",
       "      <td>3294335.87</td>\n",
       "      <td>142553.21</td>\n",
       "      <td>4006894.75</td>\n",
       "      <td>1151399.33</td>\n",
       "      <td>2838239.39</td>\n",
       "      <td>...</td>\n",
       "      <td>False</td>\n",
       "      <td>False</td>\n",
       "      <td>False</td>\n",
       "      <td>False</td>\n",
       "      <td>False</td>\n",
       "      <td>False</td>\n",
       "      <td>False</td>\n",
       "      <td>False</td>\n",
       "      <td>False</td>\n",
       "      <td>False</td>\n",
       "    </tr>\n",
       "    <tr>\n",
       "      <th>4</th>\n",
       "      <td>46</td>\n",
       "      <td>2016-02-07</td>\n",
       "      <td>0.70</td>\n",
       "      <td>10361698.17</td>\n",
       "      <td>2930343.28</td>\n",
       "      <td>3950852.38</td>\n",
       "      <td>424389.60</td>\n",
       "      <td>3056112.91</td>\n",
       "      <td>2693843.02</td>\n",
       "      <td>344774.59</td>\n",
       "      <td>...</td>\n",
       "      <td>False</td>\n",
       "      <td>False</td>\n",
       "      <td>False</td>\n",
       "      <td>False</td>\n",
       "      <td>False</td>\n",
       "      <td>False</td>\n",
       "      <td>False</td>\n",
       "      <td>False</td>\n",
       "      <td>False</td>\n",
       "      <td>False</td>\n",
       "    </tr>\n",
       "  </tbody>\n",
       "</table>\n",
       "<p>5 rows × 68 columns</p>\n",
       "</div>"
      ],
      "text/plain": [
       "   Unnamed: 0       Date  AveragePrice  Total Volume        4046        4225  \\\n",
       "0          47 2017-02-05          0.66   11274749.11  4377537.67  2558039.85   \n",
       "1          47 2017-02-05          0.67   11213596.29  3986429.59  3550403.07   \n",
       "2           7 2018-02-04          0.80   10894677.77  4473811.63  4097591.67   \n",
       "3           7 2018-02-04          0.83   10565056.41  3121272.58  3294335.87   \n",
       "4          46 2016-02-07          0.70   10361698.17  2930343.28  3950852.38   \n",
       "\n",
       "        4770  Total Bags  Small Bags  Large Bags    ...     Indianapolis  \\\n",
       "0  193764.89  4145406.70  2508731.79  1627453.06    ...            False   \n",
       "1  214137.93  3462625.70  3403581.49     7838.83    ...            False   \n",
       "2  146357.78  2176916.69  2072477.62    34196.27    ...            False   \n",
       "3  142553.21  4006894.75  1151399.33  2838239.39    ...            False   \n",
       "4  424389.60  3056112.91  2693843.02   344774.59    ...            False   \n",
       "\n",
       "  Columbus  Roanoke Albany  Pittsburgh  BuffaloRochester  Louisville  Spokane  \\\n",
       "0    False    False  False       False             False       False    False   \n",
       "1    False    False  False       False             False       False    False   \n",
       "2    False    False  False       False             False       False    False   \n",
       "3    False    False  False       False             False       False    False   \n",
       "4    False    False  False       False             False       False    False   \n",
       "\n",
       "   Boise  Syracuse  \n",
       "0  False     False  \n",
       "1  False     False  \n",
       "2  False     False  \n",
       "3  False     False  \n",
       "4  False     False  \n",
       "\n",
       "[5 rows x 68 columns]"
      ]
     },
     "execution_count": 38,
     "metadata": {},
     "output_type": "execute_result"
    }
   ],
   "source": [
    "data_temp.head()"
   ]
  },
  {
   "cell_type": "code",
   "execution_count": 39,
   "metadata": {},
   "outputs": [
    {
     "data": {
      "text/plain": [
       "LinearRegression(copy_X=True, fit_intercept=True, n_jobs=None,\n",
       "         normalize=False)"
      ]
     },
     "execution_count": 39,
     "metadata": {},
     "output_type": "execute_result"
    }
   ],
   "source": [
    "reg"
   ]
  },
  {
   "cell_type": "code",
   "execution_count": 40,
   "metadata": {},
   "outputs": [],
   "source": [
    "x = data_temp.drop(['AveragePrice','region','Date'], axis = 1)\n",
    "y = data_temp.AveragePrice\n",
    "\n",
    "x_train,x_test,y_train,y_test = train_test_split(x,y,random_state = 0)"
   ]
  },
  {
   "cell_type": "code",
   "execution_count": 41,
   "metadata": {},
   "outputs": [
    {
     "ename": "ValueError",
     "evalue": "could not convert string to float: 'conventional'",
     "output_type": "error",
     "traceback": [
      "\u001b[0;31m---------------------------------------------------------------------------\u001b[0m",
      "\u001b[0;31mValueError\u001b[0m                                Traceback (most recent call last)",
      "\u001b[0;32m<ipython-input-41-83b203aaf188>\u001b[0m in \u001b[0;36m<module>\u001b[0;34m\u001b[0m\n\u001b[0;32m----> 1\u001b[0;31m \u001b[0mreg\u001b[0m \u001b[0;34m=\u001b[0m \u001b[0mLinearRegression\u001b[0m\u001b[0;34m(\u001b[0m\u001b[0;34m)\u001b[0m\u001b[0;34m.\u001b[0m\u001b[0mfit\u001b[0m\u001b[0;34m(\u001b[0m\u001b[0mx_train\u001b[0m\u001b[0;34m,\u001b[0m \u001b[0my_train\u001b[0m\u001b[0;34m)\u001b[0m\u001b[0;34m\u001b[0m\u001b[0;34m\u001b[0m\u001b[0m\n\u001b[0m\u001b[1;32m      2\u001b[0m \u001b[0mmean_squared_error\u001b[0m\u001b[0;34m(\u001b[0m\u001b[0my_test\u001b[0m\u001b[0;34m,\u001b[0m \u001b[0mreg\u001b[0m\u001b[0;34m.\u001b[0m\u001b[0mpredict\u001b[0m\u001b[0;34m(\u001b[0m\u001b[0mx_test\u001b[0m\u001b[0;34m)\u001b[0m\u001b[0;34m)\u001b[0m\u001b[0;34m\u001b[0m\u001b[0;34m\u001b[0m\u001b[0m\n",
      "\u001b[0;32m/anaconda3/lib/python3.7/site-packages/sklearn/linear_model/base.py\u001b[0m in \u001b[0;36mfit\u001b[0;34m(self, X, y, sample_weight)\u001b[0m\n\u001b[1;32m    456\u001b[0m         \u001b[0mn_jobs_\u001b[0m \u001b[0;34m=\u001b[0m \u001b[0mself\u001b[0m\u001b[0;34m.\u001b[0m\u001b[0mn_jobs\u001b[0m\u001b[0;34m\u001b[0m\u001b[0;34m\u001b[0m\u001b[0m\n\u001b[1;32m    457\u001b[0m         X, y = check_X_y(X, y, accept_sparse=['csr', 'csc', 'coo'],\n\u001b[0;32m--> 458\u001b[0;31m                          y_numeric=True, multi_output=True)\n\u001b[0m\u001b[1;32m    459\u001b[0m \u001b[0;34m\u001b[0m\u001b[0m\n\u001b[1;32m    460\u001b[0m         \u001b[0;32mif\u001b[0m \u001b[0msample_weight\u001b[0m \u001b[0;32mis\u001b[0m \u001b[0;32mnot\u001b[0m \u001b[0;32mNone\u001b[0m \u001b[0;32mand\u001b[0m \u001b[0mnp\u001b[0m\u001b[0;34m.\u001b[0m\u001b[0matleast_1d\u001b[0m\u001b[0;34m(\u001b[0m\u001b[0msample_weight\u001b[0m\u001b[0;34m)\u001b[0m\u001b[0;34m.\u001b[0m\u001b[0mndim\u001b[0m \u001b[0;34m>\u001b[0m \u001b[0;36m1\u001b[0m\u001b[0;34m:\u001b[0m\u001b[0;34m\u001b[0m\u001b[0;34m\u001b[0m\u001b[0m\n",
      "\u001b[0;32m/anaconda3/lib/python3.7/site-packages/sklearn/utils/validation.py\u001b[0m in \u001b[0;36mcheck_X_y\u001b[0;34m(X, y, accept_sparse, accept_large_sparse, dtype, order, copy, force_all_finite, ensure_2d, allow_nd, multi_output, ensure_min_samples, ensure_min_features, y_numeric, warn_on_dtype, estimator)\u001b[0m\n\u001b[1;32m    754\u001b[0m                     \u001b[0mensure_min_features\u001b[0m\u001b[0;34m=\u001b[0m\u001b[0mensure_min_features\u001b[0m\u001b[0;34m,\u001b[0m\u001b[0;34m\u001b[0m\u001b[0;34m\u001b[0m\u001b[0m\n\u001b[1;32m    755\u001b[0m                     \u001b[0mwarn_on_dtype\u001b[0m\u001b[0;34m=\u001b[0m\u001b[0mwarn_on_dtype\u001b[0m\u001b[0;34m,\u001b[0m\u001b[0;34m\u001b[0m\u001b[0;34m\u001b[0m\u001b[0m\n\u001b[0;32m--> 756\u001b[0;31m                     estimator=estimator)\n\u001b[0m\u001b[1;32m    757\u001b[0m     \u001b[0;32mif\u001b[0m \u001b[0mmulti_output\u001b[0m\u001b[0;34m:\u001b[0m\u001b[0;34m\u001b[0m\u001b[0;34m\u001b[0m\u001b[0m\n\u001b[1;32m    758\u001b[0m         y = check_array(y, 'csr', force_all_finite=True, ensure_2d=False,\n",
      "\u001b[0;32m/anaconda3/lib/python3.7/site-packages/sklearn/utils/validation.py\u001b[0m in \u001b[0;36mcheck_array\u001b[0;34m(array, accept_sparse, accept_large_sparse, dtype, order, copy, force_all_finite, ensure_2d, allow_nd, ensure_min_samples, ensure_min_features, warn_on_dtype, estimator)\u001b[0m\n\u001b[1;32m    565\u001b[0m         \u001b[0;31m# make sure we actually converted to numeric:\u001b[0m\u001b[0;34m\u001b[0m\u001b[0;34m\u001b[0m\u001b[0;34m\u001b[0m\u001b[0m\n\u001b[1;32m    566\u001b[0m         \u001b[0;32mif\u001b[0m \u001b[0mdtype_numeric\u001b[0m \u001b[0;32mand\u001b[0m \u001b[0marray\u001b[0m\u001b[0;34m.\u001b[0m\u001b[0mdtype\u001b[0m\u001b[0;34m.\u001b[0m\u001b[0mkind\u001b[0m \u001b[0;34m==\u001b[0m \u001b[0;34m\"O\"\u001b[0m\u001b[0;34m:\u001b[0m\u001b[0;34m\u001b[0m\u001b[0;34m\u001b[0m\u001b[0m\n\u001b[0;32m--> 567\u001b[0;31m             \u001b[0marray\u001b[0m \u001b[0;34m=\u001b[0m \u001b[0marray\u001b[0m\u001b[0;34m.\u001b[0m\u001b[0mastype\u001b[0m\u001b[0;34m(\u001b[0m\u001b[0mnp\u001b[0m\u001b[0;34m.\u001b[0m\u001b[0mfloat64\u001b[0m\u001b[0;34m)\u001b[0m\u001b[0;34m\u001b[0m\u001b[0;34m\u001b[0m\u001b[0m\n\u001b[0m\u001b[1;32m    568\u001b[0m         \u001b[0;32mif\u001b[0m \u001b[0;32mnot\u001b[0m \u001b[0mallow_nd\u001b[0m \u001b[0;32mand\u001b[0m \u001b[0marray\u001b[0m\u001b[0;34m.\u001b[0m\u001b[0mndim\u001b[0m \u001b[0;34m>=\u001b[0m \u001b[0;36m3\u001b[0m\u001b[0;34m:\u001b[0m\u001b[0;34m\u001b[0m\u001b[0;34m\u001b[0m\u001b[0m\n\u001b[1;32m    569\u001b[0m             raise ValueError(\"Found array with dim %d. %s expected <= 2.\"\n",
      "\u001b[0;31mValueError\u001b[0m: could not convert string to float: 'conventional'"
     ]
    }
   ],
   "source": [
    "reg = LinearRegression().fit(x_train, y_train)\n",
    "mean_squared_error(y_test, reg.predict(x_test))"
   ]
  },
  {
   "cell_type": "code",
   "execution_count": null,
   "metadata": {},
   "outputs": [],
   "source": [
    "lasso = linear_model.Lasso(alpha=0.1).fit(x_train, y_train)\n",
    "lasso.predict(x_test)\n",
    "mean_squared_error(y_test, lasso.predict(x_test))"
   ]
  },
  {
   "cell_type": "code",
   "execution_count": null,
   "metadata": {},
   "outputs": [],
   "source": [
    "ridge = Ridge(alpha=100.0).fit(x_train,y_train)\n",
    "ridge.predict(x_test)\n",
    "mean_squared_error(y_test, ridge.predict(x_test))"
   ]
  },
  {
   "cell_type": "code",
   "execution_count": null,
   "metadata": {},
   "outputs": [],
   "source": [
    "cpdf = pd.DataFrame()\n",
    "cpdf['Value'] = y_test\n",
    "cpdf['Ridge'] = ridge.predict(x_test)\n",
    "cpdf['Lasso'] = lasso.predict(x_test)\n",
    "cpdf['LR'] = reg.predict(x_test)\n",
    "cpdf.head()"
   ]
  },
  {
   "cell_type": "markdown",
   "metadata": {},
   "source": [
    "This proves that region helps increase model performance."
   ]
  },
  {
   "cell_type": "code",
   "execution_count": null,
   "metadata": {},
   "outputs": [],
   "source": [
    "ridge_coef_region = []\n",
    "for i in range (100):\n",
    "    ridge = Ridge(alpha=i*0.1).fit(x_train,y_train)\n",
    "    ridge_coef_region.append(mean_squared_error(y_test, ridge.predict(x_test)))\n",
    "\n",
    "plt.plot(index, ridge_coef_region, 'ro')"
   ]
  },
  {
   "cell_type": "code",
   "execution_count": null,
   "metadata": {},
   "outputs": [],
   "source": [
    "plt.plot(index[1:99], ridge_coef_region[1:99], 'ro')"
   ]
  },
  {
   "cell_type": "code",
   "execution_count": null,
   "metadata": {},
   "outputs": [],
   "source": [
    "ridge_coef_region"
   ]
  },
  {
   "cell_type": "code",
   "execution_count": null,
   "metadata": {},
   "outputs": [],
   "source": [
    "lasso_coef_region = []\n",
    "for i in range (100):\n",
    "    lasso = linear_model.Lasso(alpha=0.1*i).fit(x_train, y_train)\n",
    "    lasso_coef_region.append( mean_squared_error(y_test, lasso.predict(x_test)))\n",
    "\n",
    "plt.plot(index, lasso_coef_region, 'ro')\n"
   ]
  },
  {
   "cell_type": "code",
   "execution_count": null,
   "metadata": {},
   "outputs": [],
   "source": [
    "plt.plot(index[20:99], lasso_coef_region[20:99], 'ro')"
   ]
  },
  {
   "cell_type": "code",
   "execution_count": null,
   "metadata": {},
   "outputs": [],
   "source": [
    "len(lasso_coef_region)"
   ]
  },
  {
   "cell_type": "code",
   "execution_count": null,
   "metadata": {},
   "outputs": [],
   "source": [
    "x_test.head()"
   ]
  },
  {
   "cell_type": "markdown",
   "metadata": {},
   "source": [
    "# Try Square root"
   ]
  },
  {
   "cell_type": "code",
   "execution_count": null,
   "metadata": {},
   "outputs": [],
   "source": [
    "y_test_sqrt = np.sqrt(y_test)\n",
    "y_train_sqrt = np.sqrt(y_train)\n"
   ]
  },
  {
   "cell_type": "code",
   "execution_count": null,
   "metadata": {},
   "outputs": [],
   "source": [
    "reg_sqrt = LinearRegression().fit(x_train, y_train_sqrt)\n",
    "mean_squared_error(y_test_sqrt, reg.predict(x_test))"
   ]
  },
  {
   "cell_type": "code",
   "execution_count": null,
   "metadata": {},
   "outputs": [],
   "source": [
    "lasso_sqrt = linear_model.Lasso(alpha=0.2).fit(x_train, y_train_sqrt)\n",
    "mean_squared_error(y_test_sqrt, lasso.predict(x_test))"
   ]
  },
  {
   "cell_type": "code",
   "execution_count": null,
   "metadata": {},
   "outputs": [],
   "source": [
    "lasso_sqrt_coef_region = []\n",
    "for i in range (100):\n",
    "    lasso_sqrt = linear_model.Lasso(alpha=0.1*i).fit(x_train, y_train_sqrt)\n",
    "    lasso_sqrt_coef_region.append( mean_squared_error(y_test_sqrt, lasso.predict(x_test)))\n",
    "\n",
    "plt.plot(index, lasso_sqrt_coef_region, 'ro')\n"
   ]
  },
  {
   "cell_type": "code",
   "execution_count": null,
   "metadata": {},
   "outputs": [],
   "source": [
    "lasso_sqrt = linear_model.Lasso(alpha=0.1).fit(x_train, y_train_sqrt)\n",
    "mean_squared_error(y_test_sqrt, lasso.predict(x_test))"
   ]
  },
  {
   "cell_type": "code",
   "execution_count": null,
   "metadata": {},
   "outputs": [],
   "source": [
    "lasso_sqrt = linear_model.Lasso(alpha=0.1).fit(x_train, y_train_sqrt)\n",
    "mean_squared_error(y_test_sqrt, lasso.predict(x_test))"
   ]
  },
  {
   "cell_type": "code",
   "execution_count": null,
   "metadata": {},
   "outputs": [],
   "source": [
    "lasso.predict(x_test)"
   ]
  },
  {
   "cell_type": "code",
   "execution_count": null,
   "metadata": {},
   "outputs": [],
   "source": []
  },
  {
   "cell_type": "code",
   "execution_count": null,
   "metadata": {},
   "outputs": [],
   "source": []
  },
  {
   "cell_type": "code",
   "execution_count": null,
   "metadata": {},
   "outputs": [],
   "source": []
  },
  {
   "cell_type": "code",
   "execution_count": null,
   "metadata": {},
   "outputs": [],
   "source": []
  },
  {
   "cell_type": "code",
   "execution_count": null,
   "metadata": {},
   "outputs": [],
   "source": []
  },
  {
   "cell_type": "code",
   "execution_count": null,
   "metadata": {},
   "outputs": [],
   "source": []
  },
  {
   "cell_type": "code",
   "execution_count": null,
   "metadata": {},
   "outputs": [],
   "source": []
  }
 ],
 "metadata": {
  "kernelspec": {
   "display_name": "Python 3",
   "language": "python",
   "name": "python3"
  },
  "language_info": {
   "codemirror_mode": {
    "name": "ipython",
    "version": 3
   },
   "file_extension": ".py",
   "mimetype": "text/x-python",
   "name": "python",
   "nbconvert_exporter": "python",
   "pygments_lexer": "ipython3",
   "version": "3.7.1"
  }
 },
 "nbformat": 4,
 "nbformat_minor": 2
}
